{
  "nbformat": 4,
  "nbformat_minor": 0,
  "metadata": {
    "colab": {
      "provenance": [],
      "authorship_tag": "ABX9TyOwdsyFDjWYKXRkOk331mvw",
      "include_colab_link": true
    },
    "kernelspec": {
      "name": "python3",
      "display_name": "Python 3"
    },
    "language_info": {
      "name": "python"
    }
  },
  "cells": [
    {
      "cell_type": "markdown",
      "metadata": {
        "id": "view-in-github",
        "colab_type": "text"
      },
      "source": [
        "<a href=\"https://colab.research.google.com/github/amitsiman/test-colab/blob/main/intro.ipynb\" target=\"_parent\"><img src=\"https://colab.research.google.com/assets/colab-badge.svg\" alt=\"Open In Colab\"/></a>"
      ]
    },
    {
      "cell_type": "code",
      "execution_count": null,
      "metadata": {
        "id": "pzIGFbsGYHwL",
        "colab": {
          "base_uri": "https://localhost:8080/",
          "height": 35
        },
        "outputId": "0fd579b4-7b1e-4fdc-ebc2-3584bf88693f"
      },
      "outputs": [
        {
          "output_type": "execute_result",
          "data": {
            "text/plain": [
              "'1.3.5'"
            ],
            "application/vnd.google.colaboratory.intrinsic+json": {
              "type": "string"
            }
          },
          "metadata": {},
          "execution_count": 2
        }
      ],
      "source": [
        "import pandas as pd\n",
        "pd.__version__"
      ]
    },
    {
      "cell_type": "code",
      "source": [
        "import pandas as pd\n",
        "\n",
        "\n",
        "stocks = ['PLW', 'CDR', '11B', 'TEN']\n",
        "ser = pd.Series(stocks)\n",
        " \n",
        "print(ser)"
      ],
      "metadata": {
        "colab": {
          "base_uri": "https://localhost:8080/"
        },
        "id": "fItJ3DCQe75C",
        "outputId": "fa794eac-583b-4825-e37b-e4418874eb92"
      },
      "execution_count": null,
      "outputs": [
        {
          "output_type": "stream",
          "name": "stdout",
          "text": [
            "0    PLW\n",
            "1    CDR\n",
            "2    11B\n",
            "3    TEN\n",
            "dtype: object\n"
          ]
        }
      ]
    },
    {
      "cell_type": "code",
      "source": [
        "import pandas as pd\n",
        "\n",
        "\n",
        "stocks = {'PLW': 387.00, 'CDR': 339.5, 'TEN': 349.5, '11B': 391.0}\n",
        "print(pd.Series(stocks))\n",
        "\n",
        "\n",
        "import pandas as pd\n",
        " \n",
        " \n",
        "stocks = {'PLW': 387.00, 'CDR': 339.5, 'TEN': 349.5, '11B': 391.0}\n",
        "quotations = pd.Series(data=stocks)\n",
        "print(quotations)"
      ],
      "metadata": {
        "colab": {
          "base_uri": "https://localhost:8080/"
        },
        "id": "SRmQunBff6pz",
        "outputId": "9b9d103c-ed90-4ce8-c715-13ecf466aa76"
      },
      "execution_count": null,
      "outputs": [
        {
          "output_type": "stream",
          "name": "stdout",
          "text": [
            "PLW    387.0\n",
            "CDR    339.5\n",
            "TEN    349.5\n",
            "11B    391.0\n",
            "dtype: float64\n",
            "PLW    387.0\n",
            "CDR    339.5\n",
            "TEN    349.5\n",
            "11B    391.0\n",
            "dtype: float64\n"
          ]
        }
      ]
    },
    {
      "cell_type": "code",
      "source": [
        "import pandas as pd\n",
        "\n",
        "\n",
        "stocks = {'PLW': 387.00, 'CDR': 339.5, 'TEN': 349.5, '11B': 391.0}\n",
        "quotations = pd.Series(data=stocks)\n",
        "print(quotations)\n",
        "print(quotations.tolist())\n",
        "\n"
      ],
      "metadata": {
        "colab": {
          "base_uri": "https://localhost:8080/"
        },
        "id": "Q4qRsu67guLz",
        "outputId": "c28fa330-5913-46e7-a18a-4b47bfb88645"
      },
      "execution_count": null,
      "outputs": [
        {
          "output_type": "stream",
          "name": "stdout",
          "text": [
            "PLW    387.0\n",
            "CDR    339.5\n",
            "TEN    349.5\n",
            "11B    391.0\n",
            "dtype: float64\n",
            "[387.0, 339.5, 349.5, 391.0]\n"
          ]
        }
      ]
    },
    {
      "cell_type": "code",
      "source": [
        "import pandas as pd\n",
        "\n",
        "\n",
        "stocks = {'PLW': 387.00, 'CDR': 339.5, 'TEN': 349.5, '11B': 391.0}\n",
        "quotations = pd.Series(data=stocks)\n",
        "df = pd.DataFrame(quotations,columns =['price'])\n",
        "print(df)\n"
      ],
      "metadata": {
        "colab": {
          "base_uri": "https://localhost:8080/"
        },
        "id": "MWWc5bC7ipJq",
        "outputId": "b49b7541-7acc-45f5-ee58-7e2743e55f46"
      },
      "execution_count": null,
      "outputs": [
        {
          "output_type": "stream",
          "name": "stdout",
          "text": [
            "     price\n",
            "PLW  387.0\n",
            "CDR  339.5\n",
            "TEN  349.5\n",
            "11B  391.0\n"
          ]
        }
      ]
    },
    {
      "cell_type": "code",
      "source": [
        "import numpy as np\n",
        "import pandas as pd\n",
        "\n",
        "# num=np.arange(101,110,1)\n",
        "# num2=np.arange(10.0,100.0,10)\n",
        "\n",
        "# s = pd.Series(num2,num)\n",
        "# print(s)\n",
        "\n",
        "s = pd.Series(\n",
        "    data=np.arange(10, 100, 10), \n",
        "    index=np.arange(101, 110), \n",
        "    dtype='float'\n",
        ")\n",
        "print(s)\n"
      ],
      "metadata": {
        "colab": {
          "base_uri": "https://localhost:8080/"
        },
        "id": "zomjOxKx79Rg",
        "outputId": "b403f1b1-a33f-48f2-c1ae-63b3253c2485"
      },
      "execution_count": null,
      "outputs": [
        {
          "output_type": "stream",
          "name": "stdout",
          "text": [
            "101    10.0\n",
            "102    20.0\n",
            "103    30.0\n",
            "104    40.0\n",
            "105    50.0\n",
            "106    60.0\n",
            "107    70.0\n",
            "108    80.0\n",
            "109    90.0\n",
            "dtype: float64\n"
          ]
        }
      ]
    },
    {
      "cell_type": "code",
      "source": [
        "# import pandas as pd\n",
        "\n",
        "\n",
        "# series = pd.Series(['001', '002', '003', '004'], list('abcd'))\n",
        "# df = pd.DataFrame(series)\n",
        "# df = df.astype(int)\n",
        "\n",
        "# print(df)\n",
        "\n",
        "import pandas as pd\n",
        " \n",
        " \n",
        "series = pd.Series(['001', '002', '003', '004'], list('abcd'))\n",
        "series = pd.to_numeric(series)\n",
        "print(series)\n",
        "\n",
        "import pandas as pd\n",
        " \n",
        " \n",
        "series = pd.Series(['001', '002', '003', '004'], list('abcd'))\n",
        "series = series.astype(int)\n",
        "print(series)\n",
        "\n"
      ],
      "metadata": {
        "colab": {
          "base_uri": "https://localhost:8080/"
        },
        "id": "UxP7l7NZCWpL",
        "outputId": "b3a490a7-d33b-4544-b32f-3f01d84206ab"
      },
      "execution_count": null,
      "outputs": [
        {
          "output_type": "stream",
          "name": "stdout",
          "text": [
            "   0\n",
            "a  1\n",
            "b  2\n",
            "c  3\n",
            "d  4\n",
            "a    1\n",
            "b    2\n",
            "c    3\n",
            "d    4\n",
            "dtype: int64\n",
            "a    1\n",
            "b    2\n",
            "c    3\n",
            "d    4\n",
            "dtype: int64\n"
          ]
        }
      ]
    },
    {
      "cell_type": "code",
      "source": [
        "import pandas as pd\n",
        "\n",
        "\n",
        "stocks = {'PLW': 387.00, 'CDR': 339.5, 'TEN': 349.5, '11B': 391.0}\n",
        "quotations = pd.Series(data=stocks)\n",
        "s2 = pd.Series({'BBT': 25.5, 'F51': 19.2})\n",
        "quotations=quotations.append(s2)\n",
        "print(quotations)"
      ],
      "metadata": {
        "colab": {
          "base_uri": "https://localhost:8080/"
        },
        "id": "Cull7pkpFtWB",
        "outputId": "9f325d0c-6e5d-43a5-e2be-9ef23d138e03"
      },
      "execution_count": null,
      "outputs": [
        {
          "output_type": "stream",
          "name": "stdout",
          "text": [
            "PLW    387.0\n",
            "CDR    339.5\n",
            "TEN    349.5\n",
            "11B    391.0\n",
            "BBT     25.5\n",
            "F51     19.2\n",
            "dtype: float64\n"
          ]
        }
      ]
    },
    {
      "cell_type": "code",
      "source": [
        "import pandas as pd\n",
        " \n",
        " \n",
        "stocks = {\n",
        "    'PLW': 387.00, \n",
        "    'CDR': 339.5, \n",
        "    'TEN': 349.5, \n",
        "    '11B': 391.0, \n",
        "    'BBT': 25.5, \n",
        "    'F51': 19.2\n",
        "}\n",
        "quotations = pd.Series(data=stocks)\n",
        "quotations = pd.DataFrame(quotations).reset_index()\n",
        "quotations.columns = ['ticker', 'price']\n",
        "print(quotations)\n"
      ],
      "metadata": {
        "colab": {
          "base_uri": "https://localhost:8080/"
        },
        "id": "O-SZdwWZIjix",
        "outputId": "0ecc3375-bffc-4381-dd07-2700c45932e7"
      },
      "execution_count": null,
      "outputs": [
        {
          "output_type": "stream",
          "name": "stdout",
          "text": [
            "  ticker  price\n",
            "0    PLW  387.0\n",
            "1    CDR  339.5\n",
            "2    TEN  349.5\n",
            "3    11B  391.0\n",
            "4    BBT   25.5\n",
            "5    F51   19.2\n"
          ]
        }
      ]
    },
    {
      "cell_type": "code",
      "source": [
        "import pandas as pd\n",
        "\n",
        "d = {\"company\": ['Amazon', 'Microsoft', 'Facebook'], \"price\": [2375.0, 178.6, 179.2],\"ticker\":['AMZN.US','MSFT.US','FB.US']}\n",
        "df = pd.DataFrame(d)\n",
        "df\n",
        "\n",
        "##preferd solution\n",
        "import pandas as pd\n",
        " \n",
        " \n",
        "data_dict = {\n",
        "    'company': ['Amazon', 'Microsoft', 'Facebook'],\n",
        "    'price': [2375.00, 178.6, 179.2],\n",
        "    'ticker': ['AMZN.US', 'MSFT.US', 'FB.US']\n",
        "}\n",
        " \n",
        "companies = pd.DataFrame(data=data_dict)\n",
        "print(companies)\n",
        "# df"
      ],
      "metadata": {
        "colab": {
          "base_uri": "https://localhost:8080/",
          "height": 143
        },
        "id": "yF0vlA3wmDP7",
        "outputId": "9950862d-5336-4db1-b1e0-6c29a17e475b"
      },
      "execution_count": null,
      "outputs": [
        {
          "output_type": "execute_result",
          "data": {
            "text/plain": [
              "     company   price   ticker\n",
              "0     Amazon  2375.0  AMZN.US\n",
              "1  Microsoft   178.6  MSFT.US\n",
              "2   Facebook   179.2    FB.US"
            ],
            "text/html": [
              "\n",
              "  <div id=\"df-c97db59f-295a-467b-b376-a46add72f9c5\">\n",
              "    <div class=\"colab-df-container\">\n",
              "      <div>\n",
              "<style scoped>\n",
              "    .dataframe tbody tr th:only-of-type {\n",
              "        vertical-align: middle;\n",
              "    }\n",
              "\n",
              "    .dataframe tbody tr th {\n",
              "        vertical-align: top;\n",
              "    }\n",
              "\n",
              "    .dataframe thead th {\n",
              "        text-align: right;\n",
              "    }\n",
              "</style>\n",
              "<table border=\"1\" class=\"dataframe\">\n",
              "  <thead>\n",
              "    <tr style=\"text-align: right;\">\n",
              "      <th></th>\n",
              "      <th>company</th>\n",
              "      <th>price</th>\n",
              "      <th>ticker</th>\n",
              "    </tr>\n",
              "  </thead>\n",
              "  <tbody>\n",
              "    <tr>\n",
              "      <th>0</th>\n",
              "      <td>Amazon</td>\n",
              "      <td>2375.0</td>\n",
              "      <td>AMZN.US</td>\n",
              "    </tr>\n",
              "    <tr>\n",
              "      <th>1</th>\n",
              "      <td>Microsoft</td>\n",
              "      <td>178.6</td>\n",
              "      <td>MSFT.US</td>\n",
              "    </tr>\n",
              "    <tr>\n",
              "      <th>2</th>\n",
              "      <td>Facebook</td>\n",
              "      <td>179.2</td>\n",
              "      <td>FB.US</td>\n",
              "    </tr>\n",
              "  </tbody>\n",
              "</table>\n",
              "</div>\n",
              "      <button class=\"colab-df-convert\" onclick=\"convertToInteractive('df-c97db59f-295a-467b-b376-a46add72f9c5')\"\n",
              "              title=\"Convert this dataframe to an interactive table.\"\n",
              "              style=\"display:none;\">\n",
              "        \n",
              "  <svg xmlns=\"http://www.w3.org/2000/svg\" height=\"24px\"viewBox=\"0 0 24 24\"\n",
              "       width=\"24px\">\n",
              "    <path d=\"M0 0h24v24H0V0z\" fill=\"none\"/>\n",
              "    <path d=\"M18.56 5.44l.94 2.06.94-2.06 2.06-.94-2.06-.94-.94-2.06-.94 2.06-2.06.94zm-11 1L8.5 8.5l.94-2.06 2.06-.94-2.06-.94L8.5 2.5l-.94 2.06-2.06.94zm10 10l.94 2.06.94-2.06 2.06-.94-2.06-.94-.94-2.06-.94 2.06-2.06.94z\"/><path d=\"M17.41 7.96l-1.37-1.37c-.4-.4-.92-.59-1.43-.59-.52 0-1.04.2-1.43.59L10.3 9.45l-7.72 7.72c-.78.78-.78 2.05 0 2.83L4 21.41c.39.39.9.59 1.41.59.51 0 1.02-.2 1.41-.59l7.78-7.78 2.81-2.81c.8-.78.8-2.07 0-2.86zM5.41 20L4 18.59l7.72-7.72 1.47 1.35L5.41 20z\"/>\n",
              "  </svg>\n",
              "      </button>\n",
              "      \n",
              "  <style>\n",
              "    .colab-df-container {\n",
              "      display:flex;\n",
              "      flex-wrap:wrap;\n",
              "      gap: 12px;\n",
              "    }\n",
              "\n",
              "    .colab-df-convert {\n",
              "      background-color: #E8F0FE;\n",
              "      border: none;\n",
              "      border-radius: 50%;\n",
              "      cursor: pointer;\n",
              "      display: none;\n",
              "      fill: #1967D2;\n",
              "      height: 32px;\n",
              "      padding: 0 0 0 0;\n",
              "      width: 32px;\n",
              "    }\n",
              "\n",
              "    .colab-df-convert:hover {\n",
              "      background-color: #E2EBFA;\n",
              "      box-shadow: 0px 1px 2px rgba(60, 64, 67, 0.3), 0px 1px 3px 1px rgba(60, 64, 67, 0.15);\n",
              "      fill: #174EA6;\n",
              "    }\n",
              "\n",
              "    [theme=dark] .colab-df-convert {\n",
              "      background-color: #3B4455;\n",
              "      fill: #D2E3FC;\n",
              "    }\n",
              "\n",
              "    [theme=dark] .colab-df-convert:hover {\n",
              "      background-color: #434B5C;\n",
              "      box-shadow: 0px 1px 3px 1px rgba(0, 0, 0, 0.15);\n",
              "      filter: drop-shadow(0px 1px 2px rgba(0, 0, 0, 0.3));\n",
              "      fill: #FFFFFF;\n",
              "    }\n",
              "  </style>\n",
              "\n",
              "      <script>\n",
              "        const buttonEl =\n",
              "          document.querySelector('#df-c97db59f-295a-467b-b376-a46add72f9c5 button.colab-df-convert');\n",
              "        buttonEl.style.display =\n",
              "          google.colab.kernel.accessAllowed ? 'block' : 'none';\n",
              "\n",
              "        async function convertToInteractive(key) {\n",
              "          const element = document.querySelector('#df-c97db59f-295a-467b-b376-a46add72f9c5');\n",
              "          const dataTable =\n",
              "            await google.colab.kernel.invokeFunction('convertToInteractive',\n",
              "                                                     [key], {});\n",
              "          if (!dataTable) return;\n",
              "\n",
              "          const docLinkHtml = 'Like what you see? Visit the ' +\n",
              "            '<a target=\"_blank\" href=https://colab.research.google.com/notebooks/data_table.ipynb>data table notebook</a>'\n",
              "            + ' to learn more about interactive tables.';\n",
              "          element.innerHTML = '';\n",
              "          dataTable['output_type'] = 'display_data';\n",
              "          await google.colab.output.renderOutput(dataTable, element);\n",
              "          const docLink = document.createElement('div');\n",
              "          docLink.innerHTML = docLinkHtml;\n",
              "          element.appendChild(docLink);\n",
              "        }\n",
              "      </script>\n",
              "    </div>\n",
              "  </div>\n",
              "  "
            ]
          },
          "metadata": {},
          "execution_count": 6
        }
      ]
    },
    {
      "cell_type": "code",
      "source": [
        "\n",
        "\n",
        "import pandas as pd\n",
        " \n",
        " \n",
        "data_dict = {\n",
        "    'company': ['Amazon', 'Microsoft', 'Facebook'],\n",
        "    'price': [2375.00, 178.6, 179.2],\n",
        "    'ticker': ['AMZN.US', 'MSFT.US', 'FB.US']\n",
        "}\n",
        " \n",
        "companies = pd.DataFrame(data=data_dict)\n",
        "companies = companies.set_index('company')\n",
        "print(companies)"
      ],
      "metadata": {
        "colab": {
          "base_uri": "https://localhost:8080/"
        },
        "id": "v7bcgbKEosAw",
        "outputId": "1e9761a0-a5e7-4bc2-acf4-9a75e4352f86"
      },
      "execution_count": null,
      "outputs": [
        {
          "output_type": "stream",
          "name": "stdout",
          "text": [
            "            price   ticker\n",
            "company                   \n",
            "Amazon     2375.0  AMZN.US\n",
            "Microsoft   178.6  MSFT.US\n",
            "Facebook    179.2    FB.US\n"
          ]
        }
      ]
    },
    {
      "cell_type": "code",
      "source": [
        "import pandas as pd\n",
        " \n",
        " \n",
        "date_range = pd.date_range(start='2020-01-01', periods=31)\n",
        "print(date_range)\n",
        "\n",
        "## or\n",
        "\n",
        "import pandas as pd\n",
        " \n",
        " \n",
        "date_range = pd.date_range(start='2020-01-01', end='2020-01-31')\n",
        "print(date_range)\n",
        "\n",
        "\n",
        "# import pandas as pd\n",
        "# df = pd.date_range(start ='1-1-2020', \n",
        "#          end = pd.datetime.today(), freq ='D')\n",
        "\n",
        "# df"
      ],
      "metadata": {
        "colab": {
          "base_uri": "https://localhost:8080/"
        },
        "id": "xFNvHqtnqu58",
        "outputId": "f6691903-9482-49cb-cd19-e79075e6f45c"
      },
      "execution_count": null,
      "outputs": [
        {
          "output_type": "stream",
          "name": "stderr",
          "text": [
            "/usr/local/lib/python3.7/dist-packages/ipykernel_launcher.py:3: FutureWarning: The pandas.datetime class is deprecated and will be removed from pandas in a future version. Import from datetime module instead.\n",
            "  This is separate from the ipykernel package so we can avoid doing imports until\n"
          ]
        },
        {
          "output_type": "execute_result",
          "data": {
            "text/plain": [
              "DatetimeIndex(['2020-01-01', '2020-01-02', '2020-01-03', '2020-01-04',\n",
              "               '2020-01-05', '2020-01-06', '2020-01-07', '2020-01-08',\n",
              "               '2020-01-09', '2020-01-10',\n",
              "               ...\n",
              "               '2022-11-10', '2022-11-11', '2022-11-12', '2022-11-13',\n",
              "               '2022-11-14', '2022-11-15', '2022-11-16', '2022-11-17',\n",
              "               '2022-11-18', '2022-11-19'],\n",
              "              dtype='datetime64[ns]', length=1054, freq='D')"
            ]
          },
          "metadata": {},
          "execution_count": 17
        }
      ]
    },
    {
      "cell_type": "code",
      "source": [
        "##Create the DatetimeIndex object containing the dates in the yyyy-mm-dd format for all Mondays from 2020 and assign it to the date_range variable. Print this variable to the console.\n",
        "\n",
        "\n",
        "import pandas as pd\n",
        "\n",
        "date_range = pd.date_range(start='2020-01-01', end='2020-12-31', freq='W-MON')\n",
        "print(date_range)\n",
        "## or\n",
        "\n",
        "import pandas as pd\n",
        " \n",
        " \n",
        "date_range = pd.date_range(start='2020-01-01', periods=52, freq='W-MON')\n",
        "print(date_range)\n"
      ],
      "metadata": {
        "colab": {
          "base_uri": "https://localhost:8080/"
        },
        "id": "l5sgPkDwtAuO",
        "outputId": "6555a0b2-6820-463c-d056-df41cf3ad0c7"
      },
      "execution_count": null,
      "outputs": [
        {
          "output_type": "stream",
          "name": "stdout",
          "text": [
            "DatetimeIndex(['2020-01-06', '2020-01-13', '2020-01-20', '2020-01-27',\n",
            "               '2020-02-03', '2020-02-10', '2020-02-17', '2020-02-24',\n",
            "               '2020-03-02', '2020-03-09', '2020-03-16', '2020-03-23',\n",
            "               '2020-03-30', '2020-04-06', '2020-04-13', '2020-04-20',\n",
            "               '2020-04-27', '2020-05-04', '2020-05-11', '2020-05-18',\n",
            "               '2020-05-25', '2020-06-01', '2020-06-08', '2020-06-15',\n",
            "               '2020-06-22', '2020-06-29', '2020-07-06', '2020-07-13',\n",
            "               '2020-07-20', '2020-07-27', '2020-08-03', '2020-08-10',\n",
            "               '2020-08-17', '2020-08-24', '2020-08-31', '2020-09-07',\n",
            "               '2020-09-14', '2020-09-21', '2020-09-28', '2020-10-05',\n",
            "               '2020-10-12', '2020-10-19', '2020-10-26', '2020-11-02',\n",
            "               '2020-11-09', '2020-11-16', '2020-11-23', '2020-11-30',\n",
            "               '2020-12-07', '2020-12-14', '2020-12-21', '2020-12-28'],\n",
            "              dtype='datetime64[ns]', freq='W-MON')\n"
          ]
        }
      ]
    },
    {
      "cell_type": "code",
      "source": [
        "# #Create the DatetimeIndex object containing the dates in the format yyyy-mm-dd hh: mm: ss for January 1, \n",
        "# 2021 with a time interval of 1h and assign to the variable date_range. In response, print this variable to the console.\n",
        "\n",
        "import pandas as pd\n",
        "\n",
        "date_range = pd.date_range(start='2021-01-01 00:00:00', end='2021-01-01 23:00:00', freq='H')\n",
        "print(date_range)\n",
        "\n",
        "# or\n",
        "import pandas as pd\n",
        " \n",
        " \n",
        "date_range = pd.date_range(start='2021-01-01', periods=24, freq='H')\n",
        "print(date_range)\n",
        "# or\n",
        "import pandas as pd\n",
        " \n",
        " \n",
        "date_range = pd.date_range(\n",
        "    start='2021-01-01', \n",
        "    end='2021-01-02', \n",
        "    freq='H', \n",
        "    closed='left'\n",
        ")\n",
        "print(date_range)"
      ],
      "metadata": {
        "colab": {
          "base_uri": "https://localhost:8080/"
        },
        "id": "B7sYz4Bcui_K",
        "outputId": "f81f89da-4933-49d7-8c75-42f4379afecc"
      },
      "execution_count": null,
      "outputs": [
        {
          "output_type": "stream",
          "name": "stdout",
          "text": [
            "DatetimeIndex(['2021-01-01 00:00:00', '2021-01-01 01:00:00',\n",
            "               '2021-01-01 02:00:00', '2021-01-01 03:00:00',\n",
            "               '2021-01-01 04:00:00', '2021-01-01 05:00:00',\n",
            "               '2021-01-01 06:00:00', '2021-01-01 07:00:00',\n",
            "               '2021-01-01 08:00:00', '2021-01-01 09:00:00',\n",
            "               '2021-01-01 10:00:00', '2021-01-01 11:00:00',\n",
            "               '2021-01-01 12:00:00', '2021-01-01 13:00:00',\n",
            "               '2021-01-01 14:00:00', '2021-01-01 15:00:00',\n",
            "               '2021-01-01 16:00:00', '2021-01-01 17:00:00',\n",
            "               '2021-01-01 18:00:00', '2021-01-01 19:00:00',\n",
            "               '2021-01-01 20:00:00', '2021-01-01 21:00:00',\n",
            "               '2021-01-01 22:00:00', '2021-01-01 23:00:00'],\n",
            "              dtype='datetime64[ns]', freq='H')\n"
          ]
        }
      ]
    },
    {
      "cell_type": "code",
      "source": [
        "\n",
        "# Create the following DataFrame object and print it to the console.\n",
        "\n",
        "\n",
        "\n",
        "#       day           day_of_year\n",
        "#  0    2021-03-01    60\n",
        "#  1    2021-03-02    61\n",
        "#  2    2021-03-03    62\n",
        "#  3    2021-03-04    63\n",
        "#  4    2021-03-05    64\n",
        "#  5    2021-03-06    65\n",
        "#  6    2021-03-07    66\n",
        "#  7    2021-03-08    67\n",
        "#  8    2021-03-09    68\n",
        "#  9    2021-03-10    69\n",
        "# 10    2021-03-11    70\n",
        "# 11    2021-03-12    71\n",
        "# 12    2021-03-13    72\n",
        "# 13    2021-03-14    73\n",
        "# 14    2021-03-15    74\n",
        "# 15    2021-03-16    75\n",
        "# 16    2021-03-17    76\n",
        "# 17    2021-03-18    77\n",
        "# 18    2021-03-19    78\n",
        "# 19    2021-03-20    79\n",
        "# 20    2021-03-21    80\n",
        "# 21    2021-03-22    81\n",
        "# 22    2021-03-23    82\n",
        "# 23    2021-03-24    83\n",
        "# 24    2021-03-25    84\n",
        "# 25    2021-03-26    85\n",
        "# 26    2021-03-27    86\n",
        "# 27    2021-03-28    87\n",
        "# 28    2021-03-29    88\n",
        "# 29    2021-03-30    89\n",
        "# 30    2021-03-31    90\n",
        "\n",
        "\n",
        "# Tip: The day column contains dates from March 1, 2021 to March 31, 2021. The column day_of_year is the day number of the whole year.\n",
        "\n",
        "\n",
        "\n",
        "\n",
        "import pandas as pd\n",
        " \n",
        " \n",
        "date_range = pd.date_range(start='2021-03-01', periods=31)\n",
        "df = pd.DataFrame(data=date_range, columns=['day'])\n",
        "df['day_of_year'] = df['day'].dt.dayofyear\n",
        "print(df)\n",
        "\n"
      ],
      "metadata": {
        "colab": {
          "base_uri": "https://localhost:8080/"
        },
        "id": "01qG4oy5vw9P",
        "outputId": "543e4b3f-89e1-4766-afb2-37492d8c6747"
      },
      "execution_count": null,
      "outputs": [
        {
          "output_type": "stream",
          "name": "stdout",
          "text": [
            "          day  day_of_year\n",
            "0  2021-03-01           60\n",
            "1  2021-03-02           61\n",
            "2  2021-03-03           62\n",
            "3  2021-03-04           63\n",
            "4  2021-03-05           64\n",
            "5  2021-03-06           65\n",
            "6  2021-03-07           66\n",
            "7  2021-03-08           67\n",
            "8  2021-03-09           68\n",
            "9  2021-03-10           69\n",
            "10 2021-03-11           70\n",
            "11 2021-03-12           71\n",
            "12 2021-03-13           72\n",
            "13 2021-03-14           73\n",
            "14 2021-03-15           74\n",
            "15 2021-03-16           75\n",
            "16 2021-03-17           76\n",
            "17 2021-03-18           77\n",
            "18 2021-03-19           78\n",
            "19 2021-03-20           79\n",
            "20 2021-03-21           80\n",
            "21 2021-03-22           81\n",
            "22 2021-03-23           82\n",
            "23 2021-03-24           83\n",
            "24 2021-03-25           84\n",
            "25 2021-03-26           85\n",
            "26 2021-03-27           86\n",
            "27 2021-03-28           87\n",
            "28 2021-03-29           88\n",
            "29 2021-03-30           89\n",
            "30 2021-03-31           90\n"
          ]
        }
      ]
    },
    {
      "cell_type": "code",
      "source": [
        "# The following dictionary is given:\n",
        "\n",
        "\n",
        "\n",
        "# data_dict = {\n",
        "#     'normal': np.random.normal(loc=0, scale=1, size=1000),\n",
        "#     'uniform': np.random.uniform(low=0, high=1, size=1000),\n",
        "#     'binomial': np.random.binomial(n=1, p=0.2, size=1000)\n",
        "# }\n",
        "\n",
        "\n",
        "# Create the DateFrame object from this dictionary and assign it to the df variable. As an index, add a dates from 2020-01-01 as shown below. In response print this DataFrame to the console.\n",
        "\n",
        "import numpy as np\n",
        "import pandas as pd\n",
        "\n",
        "\n",
        "np.random.seed(42)\n",
        "data_dict = {\n",
        "    'normal': np.random.normal(loc=0, scale=1, size=1000),\n",
        "    'uniform': np.random.uniform(low=0, high=1, size=1000),\n",
        "    'binomial': np.random.binomial(n=1, p=0.2, size=1000)\n",
        "}\n",
        "\n",
        "df = pd.DataFrame(data=data_dict)\n",
        "df=df.set_index([pd.Index(pd.date_range(start='2020-01-01', periods=1000))])\n",
        "print(df)\n",
        "\n",
        "\n",
        "##or\n",
        "import numpy as np\n",
        "import pandas as pd\n",
        " \n",
        " \n",
        "np.random.seed(42)\n",
        "data_dict = {\n",
        "    'normal': np.random.normal(loc=0, scale=1, size=1000),\n",
        "    'uniform': np.random.uniform(low=0, high=1, size=1000),\n",
        "    'binomial': np.random.binomial(n=1, p=0.2, size=1000)\n",
        "}\n",
        " \n",
        "df = pd.DataFrame(\n",
        "    data=data_dict, \n",
        "    index=pd.date_range('2020-01-01', periods=1000)\n",
        ")\n",
        "print(df)\n",
        "\n"
      ],
      "metadata": {
        "colab": {
          "base_uri": "https://localhost:8080/"
        },
        "id": "oeNA6rdEzwa3",
        "outputId": "dce0991a-4ab2-4f90-d588-61f84253ba5b"
      },
      "execution_count": null,
      "outputs": [
        {
          "output_type": "stream",
          "name": "stdout",
          "text": [
            "              normal   uniform  binomial\n",
            "2020-01-01  0.496714  0.167483         0\n",
            "2020-01-02 -0.138264  0.104568         0\n",
            "2020-01-03  0.647689  0.636430         0\n",
            "2020-01-04  1.523030  0.706476         0\n",
            "2020-01-05 -0.234153  0.031586         1\n",
            "...              ...       ...       ...\n",
            "2022-09-22 -0.281100  0.280683         1\n",
            "2022-09-23  1.797687  0.206993         0\n",
            "2022-09-24  0.640843  0.516573         0\n",
            "2022-09-25 -0.571179  0.005506         1\n",
            "2022-09-26  0.572583  0.007664         0\n",
            "\n",
            "[1000 rows x 3 columns]\n"
          ]
        }
      ]
    },
    {
      "cell_type": "code",
      "source": [],
      "metadata": {
        "id": "n6mkEH9Lzeyu"
      },
      "execution_count": null,
      "outputs": []
    },
    {
      "cell_type": "code",
      "source": [
        "# The following df DataFrame is given:\n",
        "\n",
        "\n",
        "\n",
        "#               normal   uniform  binomial\n",
        "# 2020-01-01  0.496714  0.167483         0\n",
        "# 2020-01-02 -0.138264  0.104568         0\n",
        "# 2020-01-03  0.647689  0.636430         0\n",
        "# 2020-01-04  1.523030  0.706476         0\n",
        "# 2020-01-05 -0.234153  0.031586         1\n",
        "# ...              ...       ...       ...\n",
        "# 2022-09-22 -0.281100  0.280683         1\n",
        "# 2022-09-23  1.797687  0.206993         0\n",
        "# 2022-09-24  0.640843  0.516573         0\n",
        "# 2022-09-25 -0.571179  0.005506         1\n",
        "# 2022-09-26  0.572583  0.007664         0\n",
        " \n",
        "# [1000 rows x 3 columns]\n",
        "\n",
        "\n",
        "# Print the first ten rows of this DataFrame then print blank line and print the last five rows of this object as shown below.\n",
        "\n",
        "\n",
        "\n",
        "# Expected output:\n",
        "\n",
        "\n",
        "\n",
        "#               normal   uniform  binomial\n",
        "# 2020-01-01  0.496714  0.167483         0\n",
        "# 2020-01-02 -0.138264  0.104568         0\n",
        "# 2020-01-03  0.647689  0.636430         0\n",
        "# 2020-01-04  1.523030  0.706476         0\n",
        "# 2020-01-05 -0.234153  0.031586         1\n",
        "# 2020-01-06 -0.234137  0.936212         0\n",
        "# 2020-01-07  1.579213  0.051971         0\n",
        "# 2020-01-08  0.767435  0.541296         0\n",
        "# 2020-01-09 -0.469474  0.709061         1\n",
        "# 2020-01-10  0.542560  0.870969         0\n",
        " \n",
        "#               normal   uniform  binomial\n",
        "# 2022-09-22 -0.281100  0.280683         1\n",
        "# 2022-09-23  1.797687  0.206993         0\n",
        "# 2022-09-24  0.640843  0.516573         0\n",
        "# 2022-09-25 -0.571179  0.005506         1\n",
        "# 2022-09-26  0.572583  0.007664         0\n",
        "\n",
        "\n",
        "import numpy as np\n",
        "import pandas as pd\n",
        "\n",
        "\n",
        "np.random.seed(42)\n",
        "data_dict = {\n",
        "    'normal': np.random.normal(loc=0, scale=1, size=1000),\n",
        "    'uniform': np.random.uniform(low=0, high=1, size=1000),\n",
        "    'binomial': np.random.binomial(n=1, p=0.2, size=1000)\n",
        "}\n",
        "\n",
        "df = pd.DataFrame(data=data_dict, index=pd.date_range('2020-01-01', periods=1000))\n",
        "print(df.head(10))\n",
        "print()\n",
        "print(df.tail(5))\n"
      ],
      "metadata": {
        "colab": {
          "base_uri": "https://localhost:8080/"
        },
        "id": "pKGgRFi6412X",
        "outputId": "ef667504-ce4c-408b-ef0c-831c64a3341e"
      },
      "execution_count": null,
      "outputs": [
        {
          "output_type": "stream",
          "name": "stdout",
          "text": [
            "              normal   uniform  binomial\n",
            "2020-01-01  0.496714  0.167483         0\n",
            "2020-01-02 -0.138264  0.104568         0\n",
            "2020-01-03  0.647689  0.636430         0\n",
            "2020-01-04  1.523030  0.706476         0\n",
            "2020-01-05 -0.234153  0.031586         1\n",
            "2020-01-06 -0.234137  0.936212         0\n",
            "2020-01-07  1.579213  0.051971         0\n",
            "2020-01-08  0.767435  0.541296         0\n",
            "2020-01-09 -0.469474  0.709061         1\n",
            "2020-01-10  0.542560  0.870969         0\n",
            "\n",
            "              normal   uniform  binomial\n",
            "2022-09-22 -0.281100  0.280683         1\n",
            "2022-09-23  1.797687  0.206993         0\n",
            "2022-09-24  0.640843  0.516573         0\n",
            "2022-09-25 -0.571179  0.005506         1\n",
            "2022-09-26  0.572583  0.007664         0\n"
          ]
        }
      ]
    },
    {
      "cell_type": "code",
      "source": [
        "# The following df DataFrame is given:\n",
        "\n",
        "\n",
        "\n",
        "#               normal   uniform  binomial\n",
        "# 2020-01-01  0.496714  0.167483         0\n",
        "# 2020-01-02 -0.138264  0.104568         0\n",
        "# 2020-01-03  0.647689  0.636430         0\n",
        "# 2020-01-04  1.523030  0.706476         0\n",
        "# 2020-01-05 -0.234153  0.031586         1\n",
        "# ...              ...       ...       ...\n",
        "# 2022-09-22 -0.281100  0.280683         1\n",
        "# 2022-09-23  1.797687  0.206993         0\n",
        "# 2022-09-24  0.640843  0.516573         0\n",
        "# 2022-09-25 -0.571179  0.005506         1\n",
        "# 2022-09-26  0.572583  0.007664         0\n",
        " \n",
        "# [1000 rows x 3 columns]\n",
        "\n",
        "\n",
        "# Display basic information about the df object (number of rows, number of columns, type of variables) using pd.DataFrame.info() method, print blank line and print basic statistics of df (mean value, standard deviation, min, max, median) using pd.DataFrame.describe() method as shown below.\n",
        "\n",
        "\n",
        "\n",
        "# Expected result:\n",
        "\n",
        "\n",
        "\n",
        "# <class 'pandas.core.frame.DataFrame'>\n",
        "# DatetimeIndex: 1000 entries, 2020-01-01 to 2022-09-26\n",
        "# Freq: D\n",
        "# Data columns (total 3 columns):\n",
        "#  #   Column    Non-Null Count  Dtype  \n",
        "# ---  ------    --------------  -----  \n",
        "#  0   normal    1000 non-null   float64\n",
        "#  1   uniform   1000 non-null   float64\n",
        "#  2   binomial  1000 non-null   int64  \n",
        "# dtypes: float64(2), int64(1)\n",
        "# memory usage: 31.2 KB\n",
        "# None\n",
        " \n",
        "#             normal      uniform    binomial\n",
        "# count  1000.000000  1000.000000  1000.00000\n",
        "# mean      0.019332     0.503649     0.19200\n",
        "# std       0.979216     0.288357     0.39407\n",
        "# min      -3.241267     0.003218     0.00000\n",
        "# 25%      -0.647590     0.247199     0.00000\n",
        "# 50%       0.025301     0.516126     0.00000\n",
        "# 75%       0.647944     0.746319     0.00000\n",
        "# max       3.852731     0.999414     1.00000\n",
        "\n",
        "\n",
        "import numpy as np\n",
        "import pandas as pd\n",
        " \n",
        " \n",
        "np.random.seed(42)\n",
        "data_dict = {\n",
        "    'normal': np.random.normal(loc=0, scale=1, size=1000),\n",
        "    'uniform': np.random.uniform(low=0, high=1, size=1000),\n",
        "    'binomial': np.random.binomial(n=1, p=0.2, size=1000)\n",
        "}\n",
        " \n",
        "df = pd.DataFrame(\n",
        "    data=data_dict, \n",
        "    index=pd.date_range('2020-01-01', periods=1000)\n",
        ")\n",
        "print(df.info())\n",
        "print()\n",
        "print(df.describe())"
      ],
      "metadata": {
        "colab": {
          "base_uri": "https://localhost:8080/"
        },
        "id": "jKjTGMSK581s",
        "outputId": "0580ec7d-61ca-449f-e7fd-6055c0dc8754"
      },
      "execution_count": null,
      "outputs": [
        {
          "output_type": "stream",
          "name": "stdout",
          "text": [
            "<class 'pandas.core.frame.DataFrame'>\n",
            "DatetimeIndex: 1000 entries, 2020-01-01 to 2022-09-26\n",
            "Freq: D\n",
            "Data columns (total 3 columns):\n",
            " #   Column    Non-Null Count  Dtype  \n",
            "---  ------    --------------  -----  \n",
            " 0   normal    1000 non-null   float64\n",
            " 1   uniform   1000 non-null   float64\n",
            " 2   binomial  1000 non-null   int64  \n",
            "dtypes: float64(2), int64(1)\n",
            "memory usage: 31.2 KB\n",
            "None\n",
            "\n",
            "            normal      uniform    binomial\n",
            "count  1000.000000  1000.000000  1000.00000\n",
            "mean      0.019332     0.503649     0.19200\n",
            "std       0.979216     0.288357     0.39407\n",
            "min      -3.241267     0.003218     0.00000\n",
            "25%      -0.647590     0.247199     0.00000\n",
            "50%       0.025301     0.516126     0.00000\n",
            "75%       0.647944     0.746319     0.00000\n",
            "max       3.852731     0.999414     1.00000\n"
          ]
        }
      ]
    },
    {
      "cell_type": "code",
      "source": [
        "# The following df DataFrame is given:\n",
        "\n",
        "\n",
        "\n",
        "#               normal   uniform  binomial\n",
        "# 2020-01-01  0.496714  0.167483         0\n",
        "# 2020-01-02 -0.138264  0.104568         0\n",
        "# 2020-01-03  0.647689  0.636430         0\n",
        "# 2020-01-04  1.523030  0.706476         0\n",
        "# 2020-01-05 -0.234153  0.031586         1\n",
        "# ...              ...       ...       ...\n",
        "# 2022-09-22 -0.281100  0.280683         1\n",
        "# 2022-09-23  1.797687  0.206993         0\n",
        "# 2022-09-24  0.640843  0.516573         0\n",
        "# 2022-09-25 -0.571179  0.005506         1\n",
        "# 2022-09-26  0.572583  0.007664         0\n",
        " \n",
        "# [1000 rows x 3 columns]\n",
        "\n",
        "\n",
        "# Find the distribution of the binomial column from this DataFrame. In response, print this distribution to the console as shown below.\n",
        "\n",
        "\n",
        "\n",
        "# Tip: Use pd.Series.value_counts() function.\n",
        "\n",
        "import numpy as np\n",
        "import pandas as pd\n",
        " \n",
        " \n",
        "np.random.seed(42)\n",
        "data_dict = {\n",
        "    'normal': np.random.normal(loc=0, scale=1, size=1000),\n",
        "    'uniform': np.random.uniform(low=0, high=1, size=1000),\n",
        "    'binomial': np.random.binomial(n=1, p=0.2, size=1000)\n",
        "}\n",
        " \n",
        "df = pd.DataFrame(\n",
        "    data=data_dict, \n",
        "    index=pd.date_range('2020-01-01', periods=1000)\n",
        ")\n",
        "print(df['binomial'].value_counts())\n",
        "\n",
        "\n",
        "\n",
        "\n"
      ],
      "metadata": {
        "colab": {
          "base_uri": "https://localhost:8080/"
        },
        "id": "U1b_qlIrN9Mu",
        "outputId": "c2dfa019-ddeb-46c2-fded-7eb851811e31"
      },
      "execution_count": null,
      "outputs": [
        {
          "output_type": "stream",
          "name": "stdout",
          "text": [
            "0    808\n",
            "1    192\n",
            "Name: binomial, dtype: int64\n"
          ]
        }
      ]
    },
    {
      "cell_type": "code",
      "source": [
        "# The following df DataFrame is given:\n",
        "\n",
        "\n",
        "\n",
        "#               normal   uniform  binomial\n",
        "# 2020-01-01  0.496714  0.167483         0\n",
        "# 2020-01-02 -0.138264  0.104568         0\n",
        "# 2020-01-03  0.647689  0.636430         0\n",
        "# 2020-01-04  1.523030  0.706476         0\n",
        "# 2020-01-05 -0.234153  0.031586         1\n",
        "# ...              ...       ...       ...\n",
        "# 2022-09-22 -0.281100  0.280683         1\n",
        "# 2022-09-23  1.797687  0.206993         0\n",
        "# 2022-09-24  0.640843  0.516573         0\n",
        "# 2022-09-25 -0.571179  0.005506         1\n",
        "# 2022-09-26  0.572583  0.007664         0\n",
        " \n",
        "# [1000 rows x 3 columns]\n",
        "\n",
        "\n",
        "# Extract first 50 rows from the df object and save to the 'dataframe50.csv' file.\n",
        "\n",
        "import numpy as np\n",
        "import pandas as pd\n",
        "\n",
        "\n",
        "np.random.seed(42)\n",
        "data_dict = {\n",
        "    'normal': np.random.normal(loc=0, scale=1, size=1000),\n",
        "    'uniform': np.random.uniform(low=0, high=1, size=1000),\n",
        "    'binomial': np.random.binomial(n=1, p=0.2, size=1000)\n",
        "}\n",
        "\n",
        "df = pd.DataFrame(data=data_dict, index=pd.date_range('2020-01-01', periods=1000))\n",
        "df.head(50).to_csv(r'dataframe50.csv', index=True, header=True)\n",
        "\n",
        "#or\n",
        "\n",
        "import numpy as np\n",
        "import pandas as pd\n",
        " \n",
        " \n",
        "np.random.seed(42)\n",
        "data_dict = {\n",
        "    'normal': np.random.normal(loc=0, scale=1, size=1000),\n",
        "    'uniform': np.random.uniform(low=0, high=1, size=1000),\n",
        "    'binomial': np.random.binomial(n=1, p=0.2, size=1000)\n",
        "}\n",
        " \n",
        "df = pd.DataFrame(\n",
        "    data=data_dict, \n",
        "    index=pd.date_range('2020-01-01', periods=1000)\n",
        ")\n",
        "df[:50].to_csv('dataframe50.csv', sep=',')\n",
        "\n"
      ],
      "metadata": {
        "id": "57pY0W-PPg4Z"
      },
      "execution_count": null,
      "outputs": []
    },
    {
      "cell_type": "code",
      "source": [
        "# The 'dataframe50.csv' file is attached to this exercise. Load this file into the df_new variable (remember to load the index correctly) and print the df_new variable to the console.\n",
        "# Expected output:\n",
        "#               normal   uniform  binomial\n",
        "# 2020-01-01  0.496714  0.167483         0\n",
        "# 2020-01-02 -0.138264  0.104568         0\n",
        "# 2020-01-03  0.647689  0.636430         0\n",
        "# 2020-01-04  1.523030  0.706476         0\n",
        "# 2020-01-05 -0.234153  0.031586         1\n",
        "# 2020-01-06 -0.234137  0.936212         0\n",
        "# 2020-01-07  1.579213  0.051971         0\n",
        "# 2020-01-08  0.767435  0.541296         0\n",
        "# 2020-01-09 -0.469474  0.709061         1\n",
        "# 2020-01-10  0.542560  0.870969         0\n",
        "# 2020-01-11 -0.463418  0.714087         0\n",
        "# 2020-01-12 -0.465730  0.801728         0\n",
        "# 2020-01-13  0.241962  0.339450         0\n",
        "# 2020-01-14 -1.913280  0.814825         0\n",
        "# 2020-01-15 -1.724918  0.080115         0\n",
        "# 2020-01-16 -0.562288  0.894817         1\n",
        "# 2020-01-17 -1.012831  0.547592         0\n",
        "# 2020-01-18  0.314247  0.817298         0\n",
        "# 2020-01-19 -0.908024  0.452318         1\n",
        "# 2020-01-20 -1.412304  0.643578         0\n",
        "# 2020-01-21  1.465649  0.526403         0\n",
        "# 2020-01-22 -0.225776  0.731590         0\n",
        "# 2020-01-23  0.067528  0.081630         0\n",
        "# 2020-01-24 -1.424748  0.060352         0\n",
        "# 2020-01-25 -0.544383  0.247103         1\n",
        "# 2020-01-26  0.110923  0.159545         0\n",
        "# 2020-01-27 -1.150994  0.871784         0\n",
        "# 2020-01-28  0.375698  0.219214         0\n",
        "# 2020-01-29 -0.600639  0.975865         1\n",
        "# 2020-01-30 -0.291694  0.336896         1\n",
        "# 2020-01-31 -0.601707  0.182118         1\n",
        "# 2020-02-01  1.852278  0.789699         0\n",
        "# 2020-02-02 -0.013497  0.658708         0\n",
        "# 2020-02-03 -1.057711  0.498196         0\n",
        "# 2020-02-04  0.822545  0.555364         0\n",
        "# 2020-02-05 -1.220844  0.719202         0\n",
        "# 2020-02-06  0.208864  0.228455         0\n",
        "# 2020-02-07 -1.959670  0.996334         0\n",
        "# 2020-02-08 -1.328186  0.974793         0\n",
        "# 2020-02-09  0.196861  0.650326         0\n",
        "# 2020-02-10  0.738467  0.199542         0\n",
        "# 2020-02-11  0.171368  0.680228         0\n",
        "# 2020-02-12 -0.115648  0.072198         0\n",
        "# 2020-02-13 -0.301104  0.030653         0\n",
        "# 2020-02-14 -1.478522  0.257683         0\n",
        "# 2020-02-15 -0.719844  0.462623         0\n",
        "# 2020-02-16 -0.460639  0.868273         0\n",
        "# 2020-02-17  1.057122  0.727169         0\n",
        "# 2020-02-18  0.343618  0.742707         1\n",
        "# 2020-02-19 -1.763040  0.425493         0\n",
        "import pandas as pd\n",
        "\n",
        "df_new = pd.read_csv('dataframe50.csv', index_col=0)\n",
        "print(df_new)"
      ],
      "metadata": {
        "colab": {
          "base_uri": "https://localhost:8080/"
        },
        "id": "wNFA4hFFQF3b",
        "outputId": "a296f703-0c95-46c9-cf74-f50f561596c7"
      },
      "execution_count": null,
      "outputs": [
        {
          "output_type": "stream",
          "name": "stdout",
          "text": [
            "              normal   uniform  binomial\n",
            "2020-01-01  0.496714  0.167483         0\n",
            "2020-01-02 -0.138264  0.104568         0\n",
            "2020-01-03  0.647689  0.636430         0\n",
            "2020-01-04  1.523030  0.706476         0\n",
            "2020-01-05 -0.234153  0.031586         1\n",
            "2020-01-06 -0.234137  0.936212         0\n",
            "2020-01-07  1.579213  0.051971         0\n",
            "2020-01-08  0.767435  0.541296         0\n",
            "2020-01-09 -0.469474  0.709061         1\n",
            "2020-01-10  0.542560  0.870969         0\n",
            "2020-01-11 -0.463418  0.714087         0\n",
            "2020-01-12 -0.465730  0.801728         0\n",
            "2020-01-13  0.241962  0.339450         0\n",
            "2020-01-14 -1.913280  0.814825         0\n",
            "2020-01-15 -1.724918  0.080115         0\n",
            "2020-01-16 -0.562288  0.894817         1\n",
            "2020-01-17 -1.012831  0.547592         0\n",
            "2020-01-18  0.314247  0.817298         0\n",
            "2020-01-19 -0.908024  0.452318         1\n",
            "2020-01-20 -1.412304  0.643578         0\n",
            "2020-01-21  1.465649  0.526403         0\n",
            "2020-01-22 -0.225776  0.731590         0\n",
            "2020-01-23  0.067528  0.081630         0\n",
            "2020-01-24 -1.424748  0.060352         0\n",
            "2020-01-25 -0.544383  0.247103         1\n",
            "2020-01-26  0.110923  0.159545         0\n",
            "2020-01-27 -1.150994  0.871784         0\n",
            "2020-01-28  0.375698  0.219214         0\n",
            "2020-01-29 -0.600639  0.975865         1\n",
            "2020-01-30 -0.291694  0.336896         1\n",
            "2020-01-31 -0.601707  0.182118         1\n",
            "2020-02-01  1.852278  0.789699         0\n",
            "2020-02-02 -0.013497  0.658708         0\n",
            "2020-02-03 -1.057711  0.498196         0\n",
            "2020-02-04  0.822545  0.555364         0\n",
            "2020-02-05 -1.220844  0.719202         0\n",
            "2020-02-06  0.208864  0.228455         0\n",
            "2020-02-07 -1.959670  0.996334         0\n",
            "2020-02-08 -1.328186  0.974793         0\n",
            "2020-02-09  0.196861  0.650326         0\n",
            "2020-02-10  0.738467  0.199542         0\n",
            "2020-02-11  0.171368  0.680228         0\n",
            "2020-02-12 -0.115648  0.072198         0\n",
            "2020-02-13 -0.301104  0.030653         0\n",
            "2020-02-14 -1.478522  0.257683         0\n",
            "2020-02-15 -0.719844  0.462623         0\n",
            "2020-02-16 -0.460639  0.868273         0\n",
            "2020-02-17  1.057122  0.727169         0\n",
            "2020-02-18  0.343618  0.742707         1\n",
            "2020-02-19 -1.763040  0.425493         0\n"
          ]
        }
      ]
    },
    {
      "cell_type": "code",
      "source": [
        "import pandas as pd\n",
        " \n",
        " \n",
        "# google = pd.read_csv('google.csv')\n",
        "# print(google.info())\n",
        "# print()\n",
        "# print(google.describe())\n",
        "### the above command shows:\n",
        "#               Open         High          Low        Close        Volume\n",
        "# count    30.000000    30.000000    30.000000    30.000000  3.000000e+01\n",
        "# mean   1428.889000  1445.470440  1412.767923  1430.681000  1.869471e+06\n",
        "# std      22.943586    19.462454    24.728358    22.717075  7.014872e+05\n",
        "# min    1360.340000  1398.000000  1351.650000  1362.540000  1.172069e+06\n",
        "# 25%    1419.377500  1436.802500  1396.565000  1418.097500  1.528364e+06\n",
        "# 50%    1431.925000  1444.805000  1419.095000  1433.820000  1.687518e+06\n",
        "# 75%    1444.605000  1452.628250  1428.301250  1445.430000  2.085423e+06\n",
        "# max    1463.280000  1488.520000  1454.355000  1469.930000  4.882014e+06\n"
      ],
      "metadata": {
        "id": "xnVQyx9mzirI"
      },
      "execution_count": null,
      "outputs": []
    },
    {
      "cell_type": "code",
      "source": [
        "# The google.csv file is loaded using pandas as shown below. Assign two new columns to the google DataFrame:\n",
        "\n",
        "# column with the current month number named 'Month'\n",
        "\n",
        "# column with the current year named 'Year'\n",
        "\n",
        "# In response, print this DataFrame to the console.\n",
        "\n",
        "google = pd.read_csv('google.csv', index_col=0)\n",
        "google = google.reset_index()\n",
        "google['Date'] = pd.to_datetime(google['Date'])\n",
        "google['Year'] = google['Date'].dt.year\n",
        "google['Month'] = google['Date'].dt.month\n",
        "print(google)\n",
        "\n"
      ],
      "metadata": {
        "id": "oCLJ1bmMBgzE"
      },
      "execution_count": null,
      "outputs": []
    },
    {
      "cell_type": "code",
      "source": [
        "# The google.csv file is loaded using pandas as shown below. Compute the average closing price for the month (group data by month - the Month column and then count the average value). In response, print result to the console.\n",
        "# Expected result:\n",
        "# Month\n",
        "# 5    1418.900000\n",
        "# 6    1431.595455\n",
        "# 7    1455.965000\n",
        "# Name: Close, dtype: float64\n",
        "\n",
        "import pandas as pd\n",
        " \n",
        " \n",
        "google = pd.read_csv('google.csv', index_col=0)\n",
        "google = google.reset_index()\n",
        "google['Date'] = pd.to_datetime(google['Date'])\n",
        "google['Year'] = google['Date'].dt.year\n",
        "google['Month'] = google['Date'].dt.month\n",
        "print(google.groupby('Month')['Close'].mean())"
      ],
      "metadata": {
        "id": "AyqSYypBBksh"
      },
      "execution_count": null,
      "outputs": []
    },
    {
      "cell_type": "code",
      "source": [
        "# The google.csv file is loaded using pandas as shown below. Find the index for which the Close price has the lowest value and assign it to the idx_min variable.\n",
        "\n",
        "# Then extract the row for this index from the google DataFrame as a DataFrame. In response, print this DataFrame to the console.\n",
        "\n",
        "\n",
        "\n",
        "# Expected output:\n",
        "\n",
        "\n",
        "\n",
        "#          Date     Open     High     Low    Close   Volume\n",
        "# 4  2020-06-26  1432.63  1437.02  1355.0  1362.54  4882014\n",
        "\n",
        "import pandas as pd\n",
        " \n",
        "\n",
        "data_dict = {\n",
        "    'Date': ['2020-07-02','2020-07-01' ,'2020-06-30','2020-06-29' ],\n",
        "    'Open': [1451.84,1419.17 ,1396.88,1360.34 ],\n",
        "    'High': [1488.52,1448.48 ,1424.0,1398.0 ],\n",
        "    'Low':[1451.065,1414.18,1386.9301,1351.65],\n",
        "    'Close':[1469.93,1442.0,1418.05,1397.17],\n",
        "    'Volume':[2860915,2109124,2014320,2253678],\n",
        "}\n",
        "\n",
        "google = pd.DataFrame(\n",
        "    data=data_dict )\n",
        "print(google)\n",
        "idx_min = google['Close'].argmin()\n",
        "print(google.iloc[[idx_min]])\n"
      ],
      "metadata": {
        "colab": {
          "base_uri": "https://localhost:8080/"
        },
        "id": "3FnDRPdL2KEK",
        "outputId": "ccdf1ad1-b4f1-4f2c-ad97-5a616c12360f"
      },
      "execution_count": null,
      "outputs": [
        {
          "output_type": "stream",
          "name": "stdout",
          "text": [
            "         Date     Open     High        Low    Close   Volume\n",
            "0  2020-07-02  1451.84  1488.52  1451.0650  1469.93  2860915\n",
            "1  2020-07-01  1419.17  1448.48  1414.1800  1442.00  2109124\n",
            "2  2020-06-30  1396.88  1424.00  1386.9301  1418.05  2014320\n",
            "3  2020-06-29  1360.34  1398.00  1351.6500  1397.17  2253678\n",
            "3\n",
            "         Date     Open    High      Low    Close   Volume\n",
            "3  2020-06-29  1360.34  1398.0  1351.65  1397.17  2253678\n"
          ]
        }
      ]
    },
    {
      "cell_type": "code",
      "source": [
        "# The google.csv file is loaded using pandas as shown below. Extract the following columns:\n",
        "\n",
        "# Date\n",
        "\n",
        "# Open\n",
        "\n",
        "# Close\n",
        "\n",
        "# Volume\n",
        "\n",
        "# from the google DataFrame. In response, print result to the console.\n",
        "\n",
        "\n",
        "\n",
        "# Expected output:\n",
        "\n",
        "\n",
        "\n",
        "#           Date     Open    Close   Volume\n",
        "# 0   2020-07-02  1451.84  1469.93  2860915\n",
        "# 1   2020-07-01  1419.17  1442.00  2109124\n",
        "# 2   2020-06-30  1396.88  1418.05  2014320\n",
        "# 3   2020-06-29  1360.34  1397.17  2253678\n",
        "\n",
        "import pandas as pd\n",
        " \n",
        "\n",
        "data_dict = {\n",
        "    'Date': ['2020-07-02','2020-07-01' ,'2020-06-30','2020-06-29' ],\n",
        "    'Open': [1451.84,1419.17 ,1396.88,1360.34 ],\n",
        "    'High': [1488.52,1448.48 ,1424.0,1398.0 ],\n",
        "    'Low':[1451.065,1414.18,1386.9301,1351.65],\n",
        "    'Close':[1469.93,1442.0,1418.05,1397.17],\n",
        "    'Volume':[2860915,2109124,2014320,2253678],\n",
        "}\n",
        "\n",
        "google = pd.DataFrame(\n",
        "    data=data_dict )\n",
        "print(google)\n",
        "print(\"amit\")\n",
        "print(google[['Date', 'Open', 'Close', 'Volume']])"
      ],
      "metadata": {
        "colab": {
          "base_uri": "https://localhost:8080/"
        },
        "id": "KXpIdRK98YmD",
        "outputId": "3e22a85f-790b-47f0-f329-548c57c02aee"
      },
      "execution_count": null,
      "outputs": [
        {
          "output_type": "stream",
          "name": "stdout",
          "text": [
            "         Date     Open     High        Low    Close   Volume\n",
            "0  2020-07-02  1451.84  1488.52  1451.0650  1469.93  2860915\n",
            "1  2020-07-01  1419.17  1448.48  1414.1800  1442.00  2109124\n",
            "2  2020-06-30  1396.88  1424.00  1386.9301  1418.05  2014320\n",
            "3  2020-06-29  1360.34  1398.00  1351.6500  1397.17  2253678\n",
            "amit\n",
            "         Date     Open    Close   Volume\n",
            "0  2020-07-02  1451.84  1469.93  2860915\n",
            "1  2020-07-01  1419.17  1442.00  2109124\n",
            "2  2020-06-30  1396.88  1418.05  2014320\n",
            "3  2020-06-29  1360.34  1397.17  2253678\n"
          ]
        }
      ]
    },
    {
      "cell_type": "code",
      "source": [
        "\n",
        "import pandas as pd\n",
        " \n",
        "\n",
        "data_dict = {\n",
        "    'Date': ['2020-07-02','2020-07-01' ,'2020-06-30','2020-06-29' ],\n",
        "    'Open': [1451.84,1419.17 ,1396.88,1360.34 ],\n",
        "    'High': [1488.52,1448.48 ,1424.0,1398.0 ],\n",
        "    'Low':[1451.065,1414.18,1386.9301,1351.65],\n",
        "    'Close':[1469.93,1442.0,1418.05,1397.17],\n",
        "    'Volume':[2860915,2109124,2014320,2253678],\n",
        "}\n",
        "\n",
        "google = pd.DataFrame(\n",
        "    data=data_dict )\n",
        "google['Date'] = pd.to_datetime(google['Date'])\n",
        "google['Year'] = google['Date'].dt.year\n",
        "google['Month'] = google['Date'].dt.month\n",
        "print(google)\n",
        "google=google[['Date', 'Open','High','Low' ,'Close', 'Volume']]\n",
        "print(google)\n",
        "\n",
        "#or\n",
        "\n",
        "import pandas as pd\n",
        " \n",
        " \n",
        "google = pd.read_csv('google.csv')\n",
        "google['Date'] = pd.to_datetime(google['Date'])\n",
        "google['Year'] = google['Date'].dt.year\n",
        "google['Month'] = google['Date'].dt.month\n",
        "google = google.drop(columns=['Year', 'Month'])\n",
        "print(google)"
      ],
      "metadata": {
        "colab": {
          "base_uri": "https://localhost:8080/"
        },
        "id": "lpn5_4Cx-ZHi",
        "outputId": "768ecb9c-da38-4614-9918-fc5561004547"
      },
      "execution_count": null,
      "outputs": [
        {
          "output_type": "stream",
          "name": "stdout",
          "text": [
            "        Date     Open     High        Low    Close   Volume  Year  Month\n",
            "0 2020-07-02  1451.84  1488.52  1451.0650  1469.93  2860915  2020      7\n",
            "1 2020-07-01  1419.17  1448.48  1414.1800  1442.00  2109124  2020      7\n",
            "2 2020-06-30  1396.88  1424.00  1386.9301  1418.05  2014320  2020      6\n",
            "3 2020-06-29  1360.34  1398.00  1351.6500  1397.17  2253678  2020      6\n",
            "        Date     Open     High        Low    Close   Volume\n",
            "0 2020-07-02  1451.84  1488.52  1451.0650  1469.93  2860915\n",
            "1 2020-07-01  1419.17  1448.48  1414.1800  1442.00  2109124\n",
            "2 2020-06-30  1396.88  1424.00  1386.9301  1418.05  2014320\n",
            "3 2020-06-29  1360.34  1398.00  1351.6500  1397.17  2253678\n"
          ]
        }
      ]
    },
    {
      "cell_type": "code",
      "source": [
        "# The google.csv file is loaded using pandas as shown below. Change the following column names:\n",
        "\n",
        "# Open -> O\n",
        "\n",
        "# High -> H\n",
        "\n",
        "# Low -> L\n",
        "\n",
        "# Close -> C\n",
        "\n",
        "# Volume -> V\n",
        "\n",
        "# In response, print google DataFrame to the console.\n",
        "\n",
        "\n",
        "\n",
        "# Expected output:\n",
        "\n",
        "#                   O          H          L        C        V\n",
        "# Date                                                       \n",
        "# 2020-07-02  1451.84  1488.5200  1451.0650  1469.93  2860915\n",
        "# 2020-07-01  1419.17  1448.4800  1414.1800  1442.00  2109124\n",
        "# 2020-06-30  1396.88  1424.0000  1386.9301  1418.05  2014320\n",
        "# 2020-06-29  1360.34  1398.0000  1351.6500  1397.17  2253678\n",
        "# 2020-06-26  1432.63  1437.0200  1355.0000  1362.54  488201\n",
        "\n",
        "import pandas as pd\n",
        " \n",
        " \n",
        "google = pd.read_csv('google.csv', index_col=0)\n",
        "google.columns = ['O', 'H', 'L', 'C', 'V']\n",
        "print(google)\n",
        "\n"
      ],
      "metadata": {
        "id": "PLeGWG51EJov"
      },
      "execution_count": null,
      "outputs": []
    },
    {
      "cell_type": "code",
      "source": [
        "# The following url is given:\n",
        "\n",
        "# https://ml-repository-krakers.s3-eu-west-1.amazonaws.com/kaggle+/churn_modelling/Telco-Customer-Churn.csv\n",
        "\n",
        "# Using pandas load this file into DataFrame and assign to the df variable. In response, print the first five rows to the console.\n",
        "\n",
        "\n",
        "\n",
        "# Expected result:\n",
        "\n",
        "\n",
        "\n",
        "#    customerID  gender  SeniorCitizen  ... MonthlyCharges TotalCharges  Churn\n",
        "# 0  7590-VHVEG  Female              0  ...          29.85        29.85     No\n",
        "# 1  5575-GNVDE    Male              0  ...          56.95       1889.5     No\n",
        "# 2  3668-QPYBK    Male              0  ...          53.85       108.15    Yes\n",
        "# 3  7795-CFOCW    Male              0  ...          42.30      1840.75     No\n",
        "# 4  9237-HQITU  Female              0  ...          70.70       151.65    Yes\n",
        " \n",
        "# [5 rows x 21 columns]\n",
        "\n",
        "import pandas as pd\n",
        " \n",
        " \n",
        "url = ('https://ml-repository-krakers.s3-eu-west-1.amazonaws.com/'\n",
        "    'kaggle+/churn_modelling/Telco-Customer-Churn.csv')\n",
        "df = pd.read_csv(url)\n",
        "print(df.head())"
      ],
      "metadata": {
        "colab": {
          "base_uri": "https://localhost:8080/"
        },
        "id": "oc-ovEp8Eu1w",
        "outputId": "a4678c8e-760b-462b-967d-b15f146a7b4f"
      },
      "execution_count": null,
      "outputs": [
        {
          "output_type": "stream",
          "name": "stdout",
          "text": [
            "   customerID  gender  SeniorCitizen Partner Dependents  tenure PhoneService  \\\n",
            "0  7590-VHVEG  Female              0     Yes         No       1           No   \n",
            "1  5575-GNVDE    Male              0      No         No      34          Yes   \n",
            "2  3668-QPYBK    Male              0      No         No       2          Yes   \n",
            "3  7795-CFOCW    Male              0      No         No      45           No   \n",
            "4  9237-HQITU  Female              0      No         No       2          Yes   \n",
            "\n",
            "      MultipleLines InternetService OnlineSecurity  ... DeviceProtection  \\\n",
            "0  No phone service             DSL             No  ...               No   \n",
            "1                No             DSL            Yes  ...              Yes   \n",
            "2                No             DSL            Yes  ...               No   \n",
            "3  No phone service             DSL            Yes  ...              Yes   \n",
            "4                No     Fiber optic             No  ...               No   \n",
            "\n",
            "  TechSupport StreamingTV StreamingMovies        Contract PaperlessBilling  \\\n",
            "0          No          No              No  Month-to-month              Yes   \n",
            "1          No          No              No        One year               No   \n",
            "2          No          No              No  Month-to-month              Yes   \n",
            "3         Yes          No              No        One year               No   \n",
            "4          No          No              No  Month-to-month              Yes   \n",
            "\n",
            "               PaymentMethod MonthlyCharges  TotalCharges Churn  \n",
            "0           Electronic check          29.85         29.85    No  \n",
            "1               Mailed check          56.95        1889.5    No  \n",
            "2               Mailed check          53.85        108.15   Yes  \n",
            "3  Bank transfer (automatic)          42.30       1840.75    No  \n",
            "4           Electronic check          70.70        151.65   Yes  \n",
            "\n",
            "[5 rows x 21 columns]\n"
          ]
        }
      ]
    },
    {
      "cell_type": "code",
      "source": [
        "# The df DataFrame is given below. Calculate the number of missing values for each variable. In response, print result to the console.\n",
        "\n",
        "\n",
        "\n",
        "# Expected result:\n",
        "\n",
        "\n",
        "\n",
        "# customerID          0\n",
        "# gender              0\n",
        "# SeniorCitizen       0\n",
        "# Partner             0\n",
        "# Dependents          0\n",
        "# tenure              0\n",
        "# PhoneService        0\n",
        "# MultipleLines       0\n",
        "# InternetService     0\n",
        "# OnlineSecurity      0\n",
        "# OnlineBackup        0\n",
        "# DeviceProtection    0\n",
        "# TechSupport         0\n",
        "# StreamingTV         0\n",
        "# StreamingMovies     0\n",
        "# Contract            0\n",
        "# PaperlessBilling    0\n",
        "# PaymentMethod       0\n",
        "# MonthlyCharges      0\n",
        "# TotalCharges        0\n",
        "# Churn               0\n",
        "# dtype: int64\n",
        "\n",
        "import pandas as pd\n",
        "\n",
        "\n",
        "url = 'https://ml-repository-krakers.s3-eu-west-1.amazonaws.com/kaggle+/churn_modelling/Telco-Customer-Churn.csv'\n",
        "df = pd.read_csv(url)\n",
        "print(df.isnull().sum())\n"
      ],
      "metadata": {
        "colab": {
          "base_uri": "https://localhost:8080/"
        },
        "id": "3a5qz7GbFkPf",
        "outputId": "39255a5a-6ef8-489b-f549-8b3de77ee653"
      },
      "execution_count": null,
      "outputs": [
        {
          "output_type": "stream",
          "name": "stdout",
          "text": [
            "      customerID  gender  SeniorCitizen  Partner  Dependents  tenure  \\\n",
            "0          False   False          False    False       False   False   \n",
            "1          False   False          False    False       False   False   \n",
            "2          False   False          False    False       False   False   \n",
            "3          False   False          False    False       False   False   \n",
            "4          False   False          False    False       False   False   \n",
            "...          ...     ...            ...      ...         ...     ...   \n",
            "7038       False   False          False    False       False   False   \n",
            "7039       False   False          False    False       False   False   \n",
            "7040       False   False          False    False       False   False   \n",
            "7041       False   False          False    False       False   False   \n",
            "7042       False   False          False    False       False   False   \n",
            "\n",
            "      PhoneService  MultipleLines  InternetService  OnlineSecurity  ...  \\\n",
            "0            False          False            False           False  ...   \n",
            "1            False          False            False           False  ...   \n",
            "2            False          False            False           False  ...   \n",
            "3            False          False            False           False  ...   \n",
            "4            False          False            False           False  ...   \n",
            "...            ...            ...              ...             ...  ...   \n",
            "7038         False          False            False           False  ...   \n",
            "7039         False          False            False           False  ...   \n",
            "7040         False          False            False           False  ...   \n",
            "7041         False          False            False           False  ...   \n",
            "7042         False          False            False           False  ...   \n",
            "\n",
            "      DeviceProtection  TechSupport  StreamingTV  StreamingMovies  Contract  \\\n",
            "0                False        False        False            False     False   \n",
            "1                False        False        False            False     False   \n",
            "2                False        False        False            False     False   \n",
            "3                False        False        False            False     False   \n",
            "4                False        False        False            False     False   \n",
            "...                ...          ...          ...              ...       ...   \n",
            "7038             False        False        False            False     False   \n",
            "7039             False        False        False            False     False   \n",
            "7040             False        False        False            False     False   \n",
            "7041             False        False        False            False     False   \n",
            "7042             False        False        False            False     False   \n",
            "\n",
            "      PaperlessBilling  PaymentMethod  MonthlyCharges  TotalCharges  Churn  \n",
            "0                False          False           False         False  False  \n",
            "1                False          False           False         False  False  \n",
            "2                False          False           False         False  False  \n",
            "3                False          False           False         False  False  \n",
            "4                False          False           False         False  False  \n",
            "...                ...            ...             ...           ...    ...  \n",
            "7038             False          False           False         False  False  \n",
            "7039             False          False           False         False  False  \n",
            "7040             False          False           False         False  False  \n",
            "7041             False          False           False         False  False  \n",
            "7042             False          False           False         False  False  \n",
            "\n",
            "[7043 rows x 21 columns]\n",
            "customerID          0\n",
            "gender              0\n",
            "SeniorCitizen       0\n",
            "Partner             0\n",
            "Dependents          0\n",
            "tenure              0\n",
            "PhoneService        0\n",
            "MultipleLines       0\n",
            "InternetService     0\n",
            "OnlineSecurity      0\n",
            "OnlineBackup        0\n",
            "DeviceProtection    0\n",
            "TechSupport         0\n",
            "StreamingTV         0\n",
            "StreamingMovies     0\n",
            "Contract            0\n",
            "PaperlessBilling    0\n",
            "PaymentMethod       0\n",
            "MonthlyCharges      0\n",
            "TotalCharges        0\n",
            "Churn               0\n",
            "dtype: int64\n"
          ]
        }
      ]
    },
    {
      "cell_type": "code",
      "source": [
        "# The df DataFrame is given below. Please note the TotalCharges column. The type of this column is set to object. Try to guess why this happened.\n",
        "\n",
        "\n",
        "\n",
        "# Tip: Look at the distribution of this variable.\n",
        "\n",
        "\n",
        "\n",
        "# We have a space character in this column. In this case, pandas read the entire column as an object type. As an analyst, we have to deal with such problems.\n",
        "\n",
        "# Try to replace this missing values of the TotalCharges column with its median.\n",
        "\n",
        "# In response, print distribution of the TotalCharges variable to the console.\n",
        "\n",
        "import pandas as pd\n",
        " \n",
        " \n",
        "url = ('https://ml-repository-krakers.s3-eu-west-1.amazonaws.com/'\n",
        "    'kaggle+/churn_modelling/Telco-Customer-Churn.csv')\n",
        "df = pd.read_csv(url)\n",
        "print(df.isnull().sum())\n"
      ],
      "metadata": {
        "colab": {
          "base_uri": "https://localhost:8080/"
        },
        "id": "rCn7VG8aBAv1",
        "outputId": "efecc6e3-3444-4c5d-d8f0-e941b03b6a68"
      },
      "execution_count": 2,
      "outputs": [
        {
          "output_type": "stream",
          "name": "stdout",
          "text": [
            "customerID          0\n",
            "gender              0\n",
            "SeniorCitizen       0\n",
            "Partner             0\n",
            "Dependents          0\n",
            "tenure              0\n",
            "PhoneService        0\n",
            "MultipleLines       0\n",
            "InternetService     0\n",
            "OnlineSecurity      0\n",
            "OnlineBackup        0\n",
            "DeviceProtection    0\n",
            "TechSupport         0\n",
            "StreamingTV         0\n",
            "StreamingMovies     0\n",
            "Contract            0\n",
            "PaperlessBilling    0\n",
            "PaymentMethod       0\n",
            "MonthlyCharges      0\n",
            "TotalCharges        0\n",
            "Churn               0\n",
            "dtype: int64\n"
          ]
        }
      ]
    },
    {
      "cell_type": "code",
      "source": [
        "# The df DataFrame is given below. Please note the TotalCharges column. The type of this column is set to object. Try to guess why this happened.\n",
        "\n",
        "\n",
        "\n",
        "# Tip: Look at the distribution of this variable.\n",
        "\n",
        "\n",
        "\n",
        "# We have a space character in this column. In this case, pandas read the entire column as an object type. As an analyst, we have to deal with such problems.\n",
        "\n",
        "# Try to replace this missing values of the TotalCharges column with its median.\n",
        "\n",
        "# In response, print distribution of the TotalCharges variable to the console.\n",
        "\n",
        "\n",
        "\n",
        "# Expected result:\n",
        "\n",
        "\n",
        "\n",
        "# 1397.475    11\n",
        "# 20.200      11\n",
        "# 19.750       9\n",
        "# 19.650       8\n",
        "# 20.050       8\n",
        "#             ..\n",
        "# 607.300      1\n",
        "# 1534.050     1\n",
        "# 1066.150     1\n",
        "# 249.950      1\n",
        "# 1024.000     1\n",
        "# Name: TotalCharges, Length: 6531, dtype: int64\n",
        "\n",
        "import pandas as pd\n",
        " \n",
        " \n",
        "url = ('https://ml-repository-krakers.s3-eu-west-1.amazonaws.com/'\n",
        "    'kaggle+/churn_modelling/Telco-Customer-Churn.csv')\n",
        "df = pd.read_csv(url)\n",
        "\n",
        "\n",
        "# Calculation of the median for the TotalCharges column\n",
        "median = df['TotalCharges'][df['TotalCharges'] != ' '].median()\n",
        "print(median)\n",
        "\n",
        "# Fill the missing values with median\n",
        "df.loc[df['TotalCharges'] == ' ', 'TotalCharges'] = median\n",
        " \n",
        "# Convert TotalCharges column to float type\n",
        "df['TotalCharges'] = df['TotalCharges'].astype('float')\n",
        " \n",
        "print(df['TotalCharges'].value_counts())\n"
      ],
      "metadata": {
        "colab": {
          "base_uri": "https://localhost:8080/"
        },
        "id": "zEd0vzy1y2r3",
        "outputId": "99be3781-c32f-4c10-87b4-3b53351c2130"
      },
      "execution_count": 16,
      "outputs": [
        {
          "output_type": "stream",
          "name": "stdout",
          "text": [
            "1397.475\n",
            "1397.475    11\n",
            "20.200      11\n",
            "19.750       9\n",
            "20.050       8\n",
            "19.900       8\n",
            "            ..\n",
            "6849.400     1\n",
            "692.350      1\n",
            "130.150      1\n",
            "3211.900     1\n",
            "6844.500     1\n",
            "Name: TotalCharges, Length: 6531, dtype: int64\n"
          ]
        }
      ]
    },
    {
      "cell_type": "code",
      "source": [
        "# The df DataFrame is given below. Convert following columns:\n",
        "\n",
        "\n",
        "\n",
        "# categorical = [\n",
        "#     'gender', \n",
        "#     'SeniorCitizen', \n",
        "#     'Partner', \n",
        "#     'Dependents', \n",
        "#     'PhoneService', \n",
        "#     'MultipleLines', \n",
        "#     'InternetService',\n",
        "#     'OnlineSecurity',\n",
        "#     'OnlineBackup',\n",
        "#     'DeviceProtection',\n",
        "#     'TechSupport',\n",
        "#     'StreamingTV',\n",
        "#     'Contract',\n",
        "#     'StreamingMovies',\n",
        "#     'PaperlessBilling',\n",
        "#     'PaymentMethod',\n",
        "#     'Churn'\n",
        "# ]\n",
        "# to category type. And the following columns:\n",
        "\n",
        "\n",
        "\n",
        "# numerical = [\n",
        "#     'tenure',\n",
        "#     'MonthlyCharges'\n",
        "# ]\n",
        "\n",
        "\n",
        "# to float type.\n",
        "\n",
        "\n",
        "\n",
        "# In response, print info about this DataFrame to the console.\n",
        "\n",
        "\n",
        "\n",
        "# Expected output:\n",
        "\n",
        "\n",
        "\n",
        "# <class 'pandas.core.frame.DataFrame'>\n",
        "# Index: 7043 entries, 7590-VHVEG to 3186-AJIEK\n",
        "# Data columns (total 20 columns):\n",
        "#  #   Column            Non-Null Count  Dtype   \n",
        "# ---  ------            --------------  -----   \n",
        "#  0   gender            7043 non-null   category\n",
        "#  1   SeniorCitizen     7043 non-null   category\n",
        "#  2   Partner           7043 non-null   category\n",
        "#  3   Dependents        7043 non-null   category\n",
        "#  4   tenure            7043 non-null   float64 \n",
        "#  5   PhoneService      7043 non-null   category\n",
        "#  6   MultipleLines     7043 non-null   category\n",
        "#  7   InternetService   7043 non-null   category\n",
        "#  8   OnlineSecurity    7043 non-null   category\n",
        "#  9   OnlineBackup      7043 non-null   category\n",
        "#  10  DeviceProtection  7043 non-null   category\n",
        "#  11  TechSupport       7043 non-null   category\n",
        "#  12  StreamingTV       7043 non-null   category\n",
        "#  13  StreamingMovies   7043 non-null   category\n",
        "#  14  Contract          7043 non-null   category\n",
        "#  15  PaperlessBilling  7043 non-null   category\n",
        "#  16  PaymentMethod     7043 non-null   category\n",
        "#  17  MonthlyCharges    7043 non-null   float64 \n",
        "#  18  TotalCharges      7043 non-null   float64 \n",
        "#  19  Churn             7043 non-null   category\n",
        "# dtypes: category(17), float64(3)\n",
        "# memory usage: 658.8+ KB\n",
        "\n",
        "import pandas as pd\n",
        "\n",
        "\n",
        "url = 'https://ml-repository-krakers.s3-eu-west-1.amazonaws.com/kaggle+/churn_modelling/Telco-Customer-Churn.csv'\n",
        "df = pd.read_csv(url, index_col=0)\n",
        "TotalChargesMedian = df['TotalCharges'][df['TotalCharges'] != ' '].median()\n",
        "df.loc[df['TotalCharges'] == ' ', 'TotalCharges'] = TotalChargesMedian\n",
        "df['TotalCharges'] = df['TotalCharges'].astype('float')\n",
        "\n",
        "categorical = [\n",
        "    'gender', \n",
        "    'SeniorCitizen', \n",
        "    'Partner', \n",
        "    'Dependents', \n",
        "    'PhoneService', \n",
        "    'MultipleLines', \n",
        "    'InternetService',\n",
        "    'OnlineSecurity',\n",
        "    'OnlineBackup',\n",
        "    'DeviceProtection',\n",
        "    'TechSupport',\n",
        "    'StreamingTV',\n",
        "    'Contract',\n",
        "    'StreamingMovies',\n",
        "    'PaperlessBilling',\n",
        "    'PaymentMethod',\n",
        "    'Churn'\n",
        "]\n",
        "\n",
        "numerical = [\n",
        "    'tenure',\n",
        "    'MonthlyCharges'\n",
        "]\n",
        "\n",
        "for col in categorical:\n",
        "    df[col] = pd.Categorical(df[col]) \n",
        " \n",
        "for col in numerical:\n",
        "    df[col] = df[col].astype(float)\n",
        " \n",
        "df.info()  "
      ],
      "metadata": {
        "colab": {
          "base_uri": "https://localhost:8080/"
        },
        "id": "6hUxCwJ1scGy",
        "outputId": "76cef057-2bf1-4744-e68d-7e174fd2b10e"
      },
      "execution_count": 17,
      "outputs": [
        {
          "output_type": "stream",
          "name": "stdout",
          "text": [
            "<class 'pandas.core.frame.DataFrame'>\n",
            "Index: 7043 entries, 7590-VHVEG to 3186-AJIEK\n",
            "Data columns (total 20 columns):\n",
            " #   Column            Non-Null Count  Dtype   \n",
            "---  ------            --------------  -----   \n",
            " 0   gender            7043 non-null   category\n",
            " 1   SeniorCitizen     7043 non-null   category\n",
            " 2   Partner           7043 non-null   category\n",
            " 3   Dependents        7043 non-null   category\n",
            " 4   tenure            7043 non-null   float64 \n",
            " 5   PhoneService      7043 non-null   category\n",
            " 6   MultipleLines     7043 non-null   category\n",
            " 7   InternetService   7043 non-null   category\n",
            " 8   OnlineSecurity    7043 non-null   category\n",
            " 9   OnlineBackup      7043 non-null   category\n",
            " 10  DeviceProtection  7043 non-null   category\n",
            " 11  TechSupport       7043 non-null   category\n",
            " 12  StreamingTV       7043 non-null   category\n",
            " 13  StreamingMovies   7043 non-null   category\n",
            " 14  Contract          7043 non-null   category\n",
            " 15  PaperlessBilling  7043 non-null   category\n",
            " 16  PaymentMethod     7043 non-null   category\n",
            " 17  MonthlyCharges    7043 non-null   float64 \n",
            " 18  TotalCharges      7043 non-null   float64 \n",
            " 19  Churn             7043 non-null   category\n",
            "dtypes: category(17), float64(3)\n",
            "memory usage: 339.2+ KB\n"
          ]
        }
      ]
    },
    {
      "cell_type": "code",
      "source": [
        "# The df DataFrame is given below. Print the basic statistics of categorical variables by using the appropriate argument of the pd.DataFrame.describe() method.\n",
        "\n",
        "# In response, print this statistics to the console.\n",
        "\n",
        "\n",
        "\n",
        "# Expected result:\n",
        "\n",
        "\n",
        "\n",
        "#        gender  SeniorCitizen Partner  ... PaperlessBilling     PaymentMethod Churn\n",
        "# count    7043           7043    7043  ...             7043              7043  7043\n",
        "# unique      2              2       2  ...                2                 4     2\n",
        "# top      Male              0      No  ...              Yes  Electronic check    No\n",
        "# freq     3555           5901    3641  ...             4171              2365  5174\n",
        "\n",
        "import pandas as pd\n",
        "\n",
        "\n",
        "url = 'https://ml-repository-krakers.s3-eu-west-1.amazonaws.com/kaggle+/churn_modelling/Telco-Customer-Churn.csv'\n",
        "df = pd.read_csv(url, index_col=0)\n",
        "TotalChargesMedian = df['TotalCharges'][df['TotalCharges'] != ' '].median()\n",
        "df.loc[df['TotalCharges'] == ' ', 'TotalCharges'] = TotalChargesMedian\n",
        "df['TotalCharges'] = df['TotalCharges'].astype('float')\n",
        "\n",
        "categorical = [\n",
        "    'gender', \n",
        "    'SeniorCitizen', \n",
        "    'Partner', \n",
        "    'Dependents', \n",
        "    'PhoneService', \n",
        "    'MultipleLines', \n",
        "    'InternetService',\n",
        "    'OnlineSecurity',\n",
        "    'OnlineBackup',\n",
        "    'DeviceProtection',\n",
        "    'TechSupport',\n",
        "    'StreamingTV',\n",
        "    'Contract',\n",
        "    'StreamingMovies',\n",
        "    'PaperlessBilling',\n",
        "    'PaymentMethod',\n",
        "    'Churn'\n",
        "]\n",
        "\n",
        "numerical = [\n",
        "    'tenure',\n",
        "    'MonthlyCharges'\n",
        "]\n",
        "\n",
        "for col in categorical:\n",
        "    df[col] = pd.Categorical(df[col]) \n",
        "\n",
        "for col in numerical:\n",
        "    df[col] = df[col].astype(float)\n",
        "\n",
        "print(df.describe(include=['category']))"
      ],
      "metadata": {
        "colab": {
          "base_uri": "https://localhost:8080/"
        },
        "id": "cJoRNH_F_Lrv",
        "outputId": "60156ed2-8748-43b5-de7f-928a9bc93ec1"
      },
      "execution_count": 19,
      "outputs": [
        {
          "output_type": "stream",
          "name": "stdout",
          "text": [
            "       gender  SeniorCitizen Partner Dependents PhoneService MultipleLines  \\\n",
            "count    7043           7043    7043       7043         7043          7043   \n",
            "unique      2              2       2          2            2             3   \n",
            "top      Male              0      No         No          Yes            No   \n",
            "freq     3555           5901    3641       4933         6361          3390   \n",
            "\n",
            "       InternetService OnlineSecurity OnlineBackup DeviceProtection  \\\n",
            "count             7043           7043         7043             7043   \n",
            "unique               3              3            3                3   \n",
            "top        Fiber optic             No           No               No   \n",
            "freq              3096           3498         3088             3095   \n",
            "\n",
            "       TechSupport StreamingTV StreamingMovies        Contract  \\\n",
            "count         7043        7043            7043            7043   \n",
            "unique           3           3               3               3   \n",
            "top             No          No              No  Month-to-month   \n",
            "freq          3473        2810            2785            3875   \n",
            "\n",
            "       PaperlessBilling     PaymentMethod Churn  \n",
            "count              7043              7043  7043  \n",
            "unique                2                 4     2  \n",
            "top                 Yes  Electronic check    No  \n",
            "freq               4171              2365  5174  \n"
          ]
        }
      ]
    },
    {
      "cell_type": "code",
      "source": [
        "# The df DataFrame is given below. Find the distribution of he Churn variable and print it to the console.\n",
        "\n",
        "\n",
        "\n",
        "# Expected output:\n",
        "\n",
        "\n",
        "\n",
        "# No     5174\n",
        "# Yes    1869\n",
        "# Name: Churn, dtype: int64\n",
        "\n",
        "import pandas as pd\n",
        "\n",
        "\n",
        "url = 'https://ml-repository-krakers.s3-eu-west-1.amazonaws.com/kaggle+/churn_modelling/Telco-Customer-Churn.csv'\n",
        "df = pd.read_csv(url, index_col=0)\n",
        "print(df['Churn'].value_counts())"
      ],
      "metadata": {
        "colab": {
          "base_uri": "https://localhost:8080/"
        },
        "id": "PiQq6eh3Aitz",
        "outputId": "8fc8757b-5a54-417c-d223-c0ac05b1c06e"
      },
      "execution_count": 22,
      "outputs": [
        {
          "output_type": "stream",
          "name": "stdout",
          "text": [
            "No     5174\n",
            "Yes    1869\n",
            "Name: Churn, dtype: int64\n"
          ]
        }
      ]
    },
    {
      "cell_type": "code",
      "source": [
        "# The df DataFrame is given below. Group this DataFrame by 'Churn' and 'PaymentMethod' column and calculate the average value of the 'MonthlyCharges' column.\n",
        "\n",
        "# In response, print result to the console.\n",
        "\n",
        "\n",
        "\n",
        "# Expected output:\n",
        "\n",
        "\n",
        "\n",
        "# Churn  PaymentMethod            \n",
        "# No     Bank transfer (automatic)    65.049417\n",
        "#        Credit card (automatic)      64.562209\n",
        "#        Electronic check             74.232032\n",
        "#        Mailed check                 41.403911\n",
        "# Yes    Bank transfer (automatic)    77.875581\n",
        "#        Credit card (automatic)      77.356034\n",
        "#        Electronic check             78.700980\n",
        "#        Mailed check                 54.557143\n",
        "# Name: MonthlyCharges, dtype: float64\n",
        "\n",
        "import pandas as pd\n",
        "\n",
        "\n",
        "url = 'https://ml-repository-krakers.s3-eu-west-1.amazonaws.com/kaggle+/churn_modelling/Telco-Customer-Churn.csv'\n",
        "df = pd.read_csv(url, index_col=0)\n",
        "print(df.groupby(['Churn', 'PaymentMethod'])['MonthlyCharges'].mean())\n"
      ],
      "metadata": {
        "colab": {
          "base_uri": "https://localhost:8080/"
        },
        "id": "MxNmpD59BZrp",
        "outputId": "4b761385-297d-49cb-dfb0-6886d62960de"
      },
      "execution_count": 24,
      "outputs": [
        {
          "output_type": "stream",
          "name": "stdout",
          "text": [
            "Churn  PaymentMethod            \n",
            "No     Bank transfer (automatic)    65.049417\n",
            "       Credit card (automatic)      64.562209\n",
            "       Electronic check             74.232032\n",
            "       Mailed check                 41.403911\n",
            "Yes    Bank transfer (automatic)    77.875581\n",
            "       Credit card (automatic)      77.356034\n",
            "       Electronic check             78.700980\n",
            "       Mailed check                 54.557143\n",
            "Name: MonthlyCharges, dtype: float64\n"
          ]
        }
      ]
    },
    {
      "cell_type": "code",
      "source": [
        "# The df DataFrame is given below. Map the Churn column as follows:\n",
        "\n",
        "# 'Yes' -> 1\n",
        "\n",
        "# 'No' -> 0\n",
        "\n",
        "\n",
        "\n",
        "# The first five rows of the Churn column:\n",
        "\n",
        "\n",
        "\n",
        "# customerID\n",
        "# 7590-VHVEG    0\n",
        "# 5575-GNVDE    0\n",
        "# 3668-QPYBK    1\n",
        "# 7795-CFOCW    0\n",
        "# 9237-HQITU    1\n",
        "# Name: Churn, dtype: int64\n",
        "\n",
        "import pandas as pd\n",
        "\n",
        "\n",
        "url = 'https://ml-repository-krakers.s3-eu-west-1.amazonaws.com/kaggle+/churn_modelling/Telco-Customer-Churn.csv'\n",
        "df = pd.read_csv(url, index_col=0)\n",
        "df['Churn'] = df['Churn'].map({'Yes': 1, 'No': 0})\n",
        "print(df['Churn'])"
      ],
      "metadata": {
        "colab": {
          "base_uri": "https://localhost:8080/"
        },
        "id": "F3EviXLoCSVk",
        "outputId": "06c2818e-fd00-431d-86ba-25e7b6b46c08"
      },
      "execution_count": 29,
      "outputs": [
        {
          "output_type": "stream",
          "name": "stdout",
          "text": [
            "customerID\n",
            "7590-VHVEG    0\n",
            "5575-GNVDE    0\n",
            "3668-QPYBK    1\n",
            "7795-CFOCW    0\n",
            "9237-HQITU    1\n",
            "             ..\n",
            "6840-RESVB    0\n",
            "2234-XADUH    0\n",
            "4801-JZAZL    0\n",
            "8361-LTMKD    1\n",
            "3186-AJIEK    0\n",
            "Name: Churn, Length: 7043, dtype: int64\n"
          ]
        }
      ]
    },
    {
      "cell_type": "code",
      "source": [
        "# Exercise 39\n",
        "# The df DataFrame is given below. Calculate the correlation matrix for this DataFrame.\n",
        "\n",
        "# In response, print result to the console.\n",
        "\n",
        "\n",
        "\n",
        "# Expected result:\n",
        "\n",
        "\n",
        "\n",
        "#                 SeniorCitizen    tenure  MonthlyCharges\n",
        "# SeniorCitizen        1.000000  0.016567        0.220173\n",
        "# tenure               0.016567  1.000000        0.247900\n",
        "# MonthlyCharges       0.220173  0.247900        1.000000\n",
        "\n",
        "import pandas as pd\n",
        " \n",
        " \n",
        "url = ('https://ml-repository-krakers.s3-eu-west-1.amazonaws.com/'\n",
        "    'kaggle+/churn_modelling/Telco-Customer-Churn.csv')\n",
        "df = pd.read_csv(url, index_col=0)\n",
        "print(df.corr())"
      ],
      "metadata": {
        "colab": {
          "base_uri": "https://localhost:8080/"
        },
        "id": "m4Vg1FMhDDlP",
        "outputId": "66fc6411-f22f-4321-d660-320245838fe6"
      },
      "execution_count": 30,
      "outputs": [
        {
          "output_type": "stream",
          "name": "stdout",
          "text": [
            "                SeniorCitizen    tenure  MonthlyCharges\n",
            "SeniorCitizen        1.000000  0.016567        0.220173\n",
            "tenure               0.016567  1.000000        0.247900\n",
            "MonthlyCharges       0.220173  0.247900        1.000000\n"
          ]
        }
      ]
    },
    {
      "cell_type": "code",
      "source": [
        "# import pandas as pd\n",
        "import numpy as np\n",
        " \n",
        " \n",
        "np.random.seed(42)\n",
        " \n",
        "url = ('https://ml-repository-krakers.s3-eu-west-1.amazonaws.com/'\n",
        "    'kaggle+/churn_modelling/Telco-Customer-Churn.csv')\n",
        "df = pd.read_csv(url, index_col=0)\n",
        "df.sample(10).to_csv('sample_10.csv')"
      ],
      "metadata": {
        "id": "5efJAHhxDfDo"
      },
      "execution_count": 32,
      "outputs": []
    },
    {
      "cell_type": "code",
      "source": [
        "# The following objects are given:\n",
        "\n",
        "\n",
        "\n",
        "# s1 = pd.Series(np.random.rand(20))\n",
        "# s2 = pd.Series(np.random.randn(20))\n",
        "\n",
        "\n",
        "# Combine these two Series into one DataFrame and assign to df variable. Set the column names 'col1' and 'col2' respectively. In response, print this DataFrame to the console.\n",
        "\n",
        "\n",
        "\n",
        "# Expected result:\n",
        "\n",
        "\n",
        "\n",
        "#         col1      col2\n",
        "# 0   0.374540 -1.012831\n",
        "# 1   0.950714  0.314247\n",
        "# 2   0.731994 -0.908024\n",
        "# 3   0.598658 -1.412304\n",
        "# 4   0.156019  1.465649\n",
        "# 5   0.155995 -0.225776\n",
        "# 6   0.058084  0.067528\n",
        "# 7   0.866176 -1.424748\n",
        "# 8   0.601115 -0.544383\n",
        "# 9   0.708073  0.110923\n",
        "# 10  0.020584 -1.150994\n",
        "# 11  0.969910  0.375698\n",
        "# 12  0.832443 -0.600639\n",
        "# 13  0.212339 -0.291694\n",
        "# 14  0.181825 -0.601707\n",
        "# 15  0.183405  1.852278\n",
        "# 16  0.304242 -0.013497\n",
        "# 17  0.524756 -1.057711\n",
        "# 18  0.431945  0.822545\n",
        "# 19  0.291229 -1.220844\n",
        "\n",
        "import numpy as np\n",
        "import pandas as pd\n",
        "\n",
        "\n",
        "np.random.seed(42)\n",
        "s1 = pd.Series(np.random.rand(20))\n",
        "s2 = pd.Series(np.random.randn(20))\n",
        "df = pd.concat([s1, s2], axis=1)\n",
        "df.columns = ['col1', 'col2']\n",
        "print(df)\n"
      ],
      "metadata": {
        "colab": {
          "base_uri": "https://localhost:8080/"
        },
        "id": "msT4N09BDwuY",
        "outputId": "7eff8408-1696-4354-9fc0-c63d366814e8"
      },
      "execution_count": 41,
      "outputs": [
        {
          "output_type": "stream",
          "name": "stdout",
          "text": [
            "        col1      col2\n",
            "0   0.374540 -1.012831\n",
            "1   0.950714  0.314247\n",
            "2   0.731994 -0.908024\n",
            "3   0.598658 -1.412304\n",
            "4   0.156019  1.465649\n",
            "5   0.155995 -0.225776\n",
            "6   0.058084  0.067528\n",
            "7   0.866176 -1.424748\n",
            "8   0.601115 -0.544383\n",
            "9   0.708073  0.110923\n",
            "10  0.020584 -1.150994\n",
            "11  0.969910  0.375698\n",
            "12  0.832443 -0.600639\n",
            "13  0.212339 -0.291694\n",
            "14  0.181825 -0.601707\n",
            "15  0.183405  1.852278\n",
            "16  0.304242 -0.013497\n",
            "17  0.524756 -1.057711\n",
            "18  0.431945  0.822545\n",
            "19  0.291229 -1.220844\n"
          ]
        }
      ]
    },
    {
      "cell_type": "code",
      "source": [
        "# The df DataFrame is given below. Extract rows from this DataFrame for which the col2 column is between 0.0 and 1.0 (inclusive).\n",
        "\n",
        "# In response, print result to the console.\n",
        "\n",
        "\n",
        "\n",
        "# Expected result:\n",
        "\n",
        "\n",
        "\n",
        "#         col1      col2\n",
        "# 1   0.950714  0.314247\n",
        "# 6   0.058084  0.067528\n",
        "# 9   0.708073  0.110923\n",
        "# 11  0.969910  0.375698\n",
        "# 18  0.431945  0.822545\n",
        "\n",
        "import numpy as np\n",
        "import pandas as pd\n",
        " \n",
        " \n",
        "np.random.seed(42)\n",
        "s1 = pd.Series(np.random.rand(20))\n",
        "s2 = pd.Series(np.random.randn(20))\n",
        " \n",
        "df = pd.concat([s1, s2], axis=1)\n",
        "df.columns = ['col1', 'col2']\n",
        "print(df[df['col2'].between(0.0, 1.0)])\n",
        "\n",
        "#or\n",
        "\n",
        "import numpy as np\n",
        "import pandas as pd\n",
        " \n",
        " \n",
        "np.random.seed(42)\n",
        "s1 = pd.Series(np.random.rand(20))\n",
        "s2 = pd.Series(np.random.randn(20))\n",
        " \n",
        "df = pd.concat([s1, s2], axis=1)\n",
        "df.columns = ['col1', 'col2']\n",
        "print(df[(df['col2'] >= 0.0) & (df['col2'] <= 1.0)])\n",
        "\n"
      ],
      "metadata": {
        "colab": {
          "base_uri": "https://localhost:8080/"
        },
        "id": "c31ifbPNHatq",
        "outputId": "e27532a4-d16b-4918-e1be-29c75ae52cad"
      },
      "execution_count": 43,
      "outputs": [
        {
          "output_type": "stream",
          "name": "stdout",
          "text": [
            "        col1      col2\n",
            "1   0.950714  0.314247\n",
            "6   0.058084  0.067528\n",
            "9   0.708073  0.110923\n",
            "11  0.969910  0.375698\n",
            "18  0.431945  0.822545\n",
            "        col1      col2\n",
            "1   0.950714  0.314247\n",
            "6   0.058084  0.067528\n",
            "9   0.708073  0.110923\n",
            "11  0.969910  0.375698\n",
            "18  0.431945  0.822545\n"
          ]
        }
      ]
    },
    {
      "cell_type": "code",
      "source": [
        "# The df DataFrame is given below. Assign a new column named 'col3', which will store 1 when the value in the column col2 is non-negative and -1 opposite.\n",
        "# In response. print DataFrame to the console.\n",
        "# Expected result:\n",
        "#         col1      col2  col3\n",
        "# 0   0.374540 -1.012831    -1\n",
        "# 1   0.950714  0.314247     1\n",
        "# 2   0.731994 -0.908024    -1\n",
        "# 3   0.598658 -1.412304    -1\n",
        "# 4   0.156019  1.465649     1\n",
        "# 5   0.155995 -0.225776    -1\n",
        "# 6   0.058084  0.067528     1\n",
        "# 7   0.866176 -1.424748    -1\n",
        "# 8   0.601115 -0.544383    -1\n",
        "# 9   0.708073  0.110923     1\n",
        "# 10  0.020584 -1.150994    -1\n",
        "# 11  0.969910  0.375698     1\n",
        "# 12  0.832443 -0.600639    -1\n",
        "# 13  0.212339 -0.291694    -1\n",
        "# 14  0.181825 -0.601707    -1\n",
        "# 15  0.183405  1.852278     1\n",
        "# 16  0.304242 -0.013497    -1\n",
        "# 17  0.524756 -1.057711    -1\n",
        "# 18  0.431945  0.822545     1\n",
        "# 19  0.291229 -1.220844    -1\n",
        "\n",
        "import numpy as np\n",
        "import pandas as pd\n",
        "\n",
        "\n",
        "np.random.seed(42)\n",
        "s1 = pd.Series(np.random.rand(20))\n",
        "s2 = pd.Series(np.random.randn(20))\n",
        "\n",
        "df = pd.concat([s1, s2], axis=1)\n",
        "df.columns = ['col1', 'col2']\n",
        "df['col3'] = df['col2'].map(lambda x: 1 if x >= 0 else -1)\n",
        "print(df)"
      ],
      "metadata": {
        "colab": {
          "base_uri": "https://localhost:8080/"
        },
        "id": "toZOjBCPIgiE",
        "outputId": "170e5289-a3c9-43cc-9f30-9e83fd93e5d3"
      },
      "execution_count": 45,
      "outputs": [
        {
          "output_type": "stream",
          "name": "stdout",
          "text": [
            "        col1      col2  col3\n",
            "0   0.374540 -1.012831    -1\n",
            "1   0.950714  0.314247     1\n",
            "2   0.731994 -0.908024    -1\n",
            "3   0.598658 -1.412304    -1\n",
            "4   0.156019  1.465649     1\n",
            "5   0.155995 -0.225776    -1\n",
            "6   0.058084  0.067528     1\n",
            "7   0.866176 -1.424748    -1\n",
            "8   0.601115 -0.544383    -1\n",
            "9   0.708073  0.110923     1\n",
            "10  0.020584 -1.150994    -1\n",
            "11  0.969910  0.375698     1\n",
            "12  0.832443 -0.600639    -1\n",
            "13  0.212339 -0.291694    -1\n",
            "14  0.181825 -0.601707    -1\n",
            "15  0.183405  1.852278     1\n",
            "16  0.304242 -0.013497    -1\n",
            "17  0.524756 -1.057711    -1\n",
            "18  0.431945  0.822545     1\n",
            "19  0.291229 -1.220844    -1\n"
          ]
        }
      ]
    },
    {
      "cell_type": "code",
      "source": [
        "# The df DataFrame is given below. Assign a new column 'col4', which will truncate the values from the column col2 to the range [−1.0, 1.0]. In other words, for values less than -1.0 set -1.0 and for values greater than 1.0 set 1.0.\n",
        "\n",
        "# In response, print DataFrame to the console.\n",
        "\n",
        "\n",
        "\n",
        "# Expected result:\n",
        "\n",
        "\n",
        "\n",
        "#         col1      col2  col3      col4\n",
        "# 0   0.374540 -1.012831    -1 -1.000000\n",
        "# 1   0.950714  0.314247     1  0.314247\n",
        "# 2   0.731994 -0.908024    -1 -0.908024\n",
        "# 3   0.598658 -1.412304    -1 -1.000000\n",
        "# 4   0.156019  1.465649     1  1.000000\n",
        "# 5   0.155995 -0.225776    -1 -0.225776\n",
        "# 6   0.058084  0.067528     1  0.067528\n",
        "# 7   0.866176 -1.424748    -1 -1.000000\n",
        "# 8   0.601115 -0.544383    -1 -0.544383\n",
        "# 9   0.708073  0.110923     1  0.110923\n",
        "# 10  0.020584 -1.150994    -1 -1.000000\n",
        "# 11  0.969910  0.375698     1  0.375698\n",
        "# 12  0.832443 -0.600639    -1 -0.600639\n",
        "# 13  0.212339 -0.291694    -1 -0.291694\n",
        "# 14  0.181825 -0.601707    -1 -0.601707\n",
        "# 15  0.183405  1.852278     1  1.000000\n",
        "# 16  0.304242 -0.013497    -1 -0.013497\n",
        "# 17  0.524756 -1.057711    -1 -1.000000\n",
        "# 18  0.431945  0.822545     1  0.822545\n",
        "# 19  0.291229 -1.220844    -1 -1.000000\n",
        "import numpy as np\n",
        "import pandas as pd\n",
        " \n",
        " \n",
        "np.random.seed(42)\n",
        "s1 = pd.Series(np.random.rand(20))\n",
        "s2 = pd.Series(np.random.randn(20))\n",
        " \n",
        "df = pd.concat([s1, s2], axis=1)\n",
        "df.columns = ['col1', 'col2']\n",
        "df['col3'] = df['col2'].map(lambda x: 1 if x >= 0 else -1)\n",
        "df['col4'] = df['col2'].clip(-1.0, 1.0)\n",
        "print(df)\n"
      ],
      "metadata": {
        "colab": {
          "base_uri": "https://localhost:8080/"
        },
        "id": "siHeo2ibJ5IW",
        "outputId": "dbd9ed19-9bb8-43ad-f4b5-af75d8aaba7d"
      },
      "execution_count": 46,
      "outputs": [
        {
          "output_type": "stream",
          "name": "stdout",
          "text": [
            "        col1      col2  col3      col4\n",
            "0   0.374540 -1.012831    -1 -1.000000\n",
            "1   0.950714  0.314247     1  0.314247\n",
            "2   0.731994 -0.908024    -1 -0.908024\n",
            "3   0.598658 -1.412304    -1 -1.000000\n",
            "4   0.156019  1.465649     1  1.000000\n",
            "5   0.155995 -0.225776    -1 -0.225776\n",
            "6   0.058084  0.067528     1  0.067528\n",
            "7   0.866176 -1.424748    -1 -1.000000\n",
            "8   0.601115 -0.544383    -1 -0.544383\n",
            "9   0.708073  0.110923     1  0.110923\n",
            "10  0.020584 -1.150994    -1 -1.000000\n",
            "11  0.969910  0.375698     1  0.375698\n",
            "12  0.832443 -0.600639    -1 -0.600639\n",
            "13  0.212339 -0.291694    -1 -0.291694\n",
            "14  0.181825 -0.601707    -1 -0.601707\n",
            "15  0.183405  1.852278     1  1.000000\n",
            "16  0.304242 -0.013497    -1 -0.013497\n",
            "17  0.524756 -1.057711    -1 -1.000000\n",
            "18  0.431945  0.822545     1  0.822545\n",
            "19  0.291229 -1.220844    -1 -1.000000\n"
          ]
        }
      ]
    },
    {
      "cell_type": "code",
      "source": [
        "# The df DataFrame is given below. Print the five largest values for the col2. Then print blank line and print the five lowest values for the col2.\n",
        "# Expected result:\n",
        "# 15    1.852278\n",
        "# 4     1.465649\n",
        "# 18    0.822545\n",
        "# 11    0.375698\n",
        "# 1     0.314247\n",
        "# Name: col2, dtype: float64\n",
        "# 7    -1.424748\n",
        "# 3    -1.412304\n",
        "# 19   -1.220844\n",
        "# 10   -1.150994\n",
        "# 17   -1.057711\n",
        "# Name: col2, dtype: float64\n",
        "\n",
        "import numpy as np\n",
        "import pandas as pd\n",
        "\n",
        "\n",
        "np.random.seed(42)\n",
        "s1 = pd.Series(np.random.rand(20))\n",
        "s2 = pd.Series(np.random.randn(20))\n",
        "\n",
        "df = pd.concat([s1, s2], axis=1)\n",
        "df.columns = ['col1', 'col2']\n",
        "print(df['col2'].nlargest(5))\n",
        "print()\n",
        "print(df['col2'].nsmallest(5))\n"
      ],
      "metadata": {
        "colab": {
          "base_uri": "https://localhost:8080/"
        },
        "id": "r67KS2AmSnMH",
        "outputId": "a895191c-ad26-4d42-ec72-65a81f1e2abf"
      },
      "execution_count": 49,
      "outputs": [
        {
          "output_type": "stream",
          "name": "stdout",
          "text": [
            "15    1.852278\n",
            "4     1.465649\n",
            "18    0.822545\n",
            "11    0.375698\n",
            "1     0.314247\n",
            "Name: col2, dtype: float64\n",
            "\n",
            "7    -1.424748\n",
            "3    -1.412304\n",
            "19   -1.220844\n",
            "10   -1.150994\n",
            "17   -1.057711\n",
            "Name: col2, dtype: float64\n"
          ]
        }
      ]
    },
    {
      "cell_type": "code",
      "source": [
        "# The df DataFrame is given below. Calculate the cumulative sum for each column and print result to the console.\n",
        "\n",
        "# Tip: Use the pd.DataFrame.cumsum() method.\n",
        "# Expected result:\n",
        "\n",
        "\n",
        "\n",
        "#         col1      col2\n",
        "# 0   0.374540 -1.012831\n",
        "# 1   1.325254 -0.698584\n",
        "# 2   2.057248 -1.606608\n",
        "# 3   2.655907 -3.018912\n",
        "# 4   2.811925 -1.553263\n",
        "# 5   2.967920 -1.779039\n",
        "# 6   3.026004 -1.711511\n",
        "# 7   3.892180 -3.136259\n",
        "# 8   4.493295 -3.680642\n",
        "# 9   5.201367 -3.569719\n",
        "# 10  5.221952 -4.720713\n",
        "# 11  6.191862 -4.345015\n",
        "# 12  7.024304 -4.945653\n",
        "# 13  7.236643 -5.237347\n",
        "# 14  7.418468 -5.839054\n",
        "# 15  7.601873 -3.986776\n",
        "# 16  7.906115 -4.000273\n",
        "# 17  8.430872 -5.057984\n",
        "# 18  8.862817 -4.235439\n",
        "# 19  9.154046 -5.456283\n",
        "\n",
        "import numpy as np\n",
        "import pandas as pd\n",
        " \n",
        " \n",
        "np.random.seed(42)\n",
        "s1 = pd.Series(np.random.rand(20))\n",
        "s2 = pd.Series(np.random.randn(20))\n",
        " \n",
        "df = pd.concat([s1, s2], axis=1)\n",
        "df.columns = ['col1', 'col2']\n",
        "print(df.cumsum())"
      ],
      "metadata": {
        "colab": {
          "base_uri": "https://localhost:8080/"
        },
        "id": "YWdVmygSTHxl",
        "outputId": "c8a99284-7ec6-4880-a727-80686944a44f"
      },
      "execution_count": 51,
      "outputs": [
        {
          "output_type": "stream",
          "name": "stdout",
          "text": [
            "        col1      col2\n",
            "0   0.374540 -1.012831\n",
            "1   1.325254 -0.698584\n",
            "2   2.057248 -1.606608\n",
            "3   2.655907 -3.018912\n",
            "4   2.811925 -1.553263\n",
            "5   2.967920 -1.779039\n",
            "6   3.026004 -1.711511\n",
            "7   3.892180 -3.136259\n",
            "8   4.493295 -3.680642\n",
            "9   5.201367 -3.569719\n",
            "10  5.221952 -4.720713\n",
            "11  6.191862 -4.345015\n",
            "12  7.024304 -4.945653\n",
            "13  7.236643 -5.237347\n",
            "14  7.418468 -5.839054\n",
            "15  7.601873 -3.986776\n",
            "16  7.906115 -4.000273\n",
            "17  8.430872 -5.057984\n",
            "18  8.862817 -4.235439\n",
            "19  9.154046 -5.456283\n"
          ]
        }
      ]
    },
    {
      "cell_type": "code",
      "source": [
        "# The df DataFrame is given below. Calculate the median for the col2 and print it to the console.\n",
        "\n",
        "\n",
        "\n",
        "# Expected result:\n",
        "\n",
        "\n",
        "\n",
        "# -0.4180382371592297\n",
        "\n",
        "import numpy as np\n",
        "import pandas as pd\n",
        "\n",
        "\n",
        "np.random.seed(42)\n",
        "s1 = pd.Series(np.random.rand(20))\n",
        "s2 = pd.Series(np.random.randn(20))\n",
        "\n",
        "df = pd.concat([s1, s2], axis=1)\n",
        "df.columns = ['col1', 'col2']\n",
        "print(df['col2'].median())\n",
        "\n"
      ],
      "metadata": {
        "colab": {
          "base_uri": "https://localhost:8080/"
        },
        "id": "RhXiiGraT0Tb",
        "outputId": "5a795ca6-ca9f-4add-f593-e675c7499cc9"
      },
      "execution_count": 52,
      "outputs": [
        {
          "output_type": "stream",
          "name": "stdout",
          "text": [
            "-0.4180382371592297\n"
          ]
        }
      ]
    },
    {
      "cell_type": "code",
      "source": [
        "# The df DataFrame is given below. Extract rows for which the col2 takes values greater than 0.0 and print result to the console.\n",
        "\n",
        "\n",
        "\n",
        "# Expected result:\n",
        "\n",
        "\n",
        "\n",
        "#         col1      col2\n",
        "# 1   0.950714  0.314247\n",
        "# 4   0.156019  1.465649\n",
        "# 6   0.058084  0.067528\n",
        "# 9   0.708073  0.110923\n",
        "# 11  0.969910  0.375698\n",
        "# 15  0.183405  1.852278\n",
        "# 18  0.431945  0.822545\n",
        "\n",
        "import numpy as np\n",
        "import pandas as pd\n",
        " \n",
        " \n",
        "np.random.seed(42)\n",
        "s1 = pd.Series(np.random.rand(20))\n",
        "s2 = pd.Series(np.random.randn(20))\n",
        " \n",
        "df = pd.concat([s1, s2], axis=1)\n",
        "df.columns = ['col1', 'col2']\n",
        "print(df.query(\"col2 > 0\"))\n",
        "\n",
        "# or\n",
        "import numpy as np\n",
        "import pandas as pd\n",
        " \n",
        " \n",
        "np.random.seed(42)\n",
        "s1 = pd.Series(np.random.rand(20))\n",
        "s2 = pd.Series(np.random.randn(20))\n",
        " \n",
        "df = pd.concat([s1, s2], axis=1)\n",
        "df.columns = ['col1', 'col2']\n",
        "print(df[df['col2'] > 0])"
      ],
      "metadata": {
        "colab": {
          "base_uri": "https://localhost:8080/"
        },
        "id": "H-QmxypsUGQC",
        "outputId": "fb95c5dc-da19-4abf-c771-acae4281a42f"
      },
      "execution_count": 54,
      "outputs": [
        {
          "output_type": "stream",
          "name": "stdout",
          "text": [
            "        col1      col2\n",
            "1   0.950714  0.314247\n",
            "4   0.156019  1.465649\n",
            "6   0.058084  0.067528\n",
            "9   0.708073  0.110923\n",
            "11  0.969910  0.375698\n",
            "15  0.183405  1.852278\n",
            "18  0.431945  0.822545\n",
            "        col1      col2\n",
            "1   0.950714  0.314247\n",
            "4   0.156019  1.465649\n",
            "6   0.058084  0.067528\n",
            "9   0.708073  0.110923\n",
            "11  0.969910  0.375698\n",
            "15  0.183405  1.852278\n",
            "18  0.431945  0.822545\n"
          ]
        }
      ]
    },
    {
      "cell_type": "code",
      "source": [
        "# The df DataFrame is given below. Extract first five rows of the df and convert into the dictionary as shown below.\n",
        "# In response, print this dictionary to the console.\n",
        "# Expected output:\n",
        "# {'col1': {0: 0.3745401188473625, 1: 0.9507143064099162, 2: 0.7319939418114051, 3: 0.5986584841970366, 4: 0.15601864044243652}, 'col2': {0: -1.0128311203344238, 1: 0.3142473325952739, 2: -0.9080240755212109, 3: -1.4123037013352915, 4: 1.465648768921554}}\n",
        "\n",
        "import numpy as np\n",
        "import pandas as pd\n",
        " \n",
        " \n",
        "np.random.seed(42)\n",
        "s1 = pd.Series(np.random.rand(20))\n",
        "s2 = pd.Series(np.random.randn(20))\n",
        " \n",
        "df = pd.concat([s1, s2], axis=1)\n",
        "df.columns = ['col1', 'col2']\n",
        "print(df.head().to_dict())\n",
        "\n",
        "#or\n",
        "import numpy as np\n",
        "import pandas as pd\n",
        " \n",
        " \n",
        "np.random.seed(42)\n",
        "s1 = pd.Series(np.random.rand(20))\n",
        "s2 = pd.Series(np.random.randn(20))\n",
        " \n",
        "df = pd.concat([s1, s2], axis=1)\n",
        "df.columns = ['col1', 'col2']\n",
        "print(df[:5].to_dict())"
      ],
      "metadata": {
        "colab": {
          "base_uri": "https://localhost:8080/"
        },
        "id": "mHPP5tuPUk1h",
        "outputId": "dd74c57c-cfda-4a26-883b-444debd8b755"
      },
      "execution_count": 55,
      "outputs": [
        {
          "output_type": "stream",
          "name": "stdout",
          "text": [
            "{'col1': {0: 0.3745401188473625, 1: 0.9507143064099162, 2: 0.7319939418114051, 3: 0.5986584841970366, 4: 0.15601864044243652}, 'col2': {0: -1.0128311203344238, 1: 0.3142473325952739, 2: -0.9080240755212109, 3: -1.4123037013352915, 4: 1.465648768921554}}\n",
            "{'col1': {0: 0.3745401188473625, 1: 0.9507143064099162, 2: 0.7319939418114051, 3: 0.5986584841970366, 4: 0.15601864044243652}, 'col2': {0: -1.0128311203344238, 1: 0.3142473325952739, 2: -0.9080240755212109, 3: -1.4123037013352915, 4: 1.465648768921554}}\n"
          ]
        }
      ]
    },
    {
      "cell_type": "code",
      "source": [
        "# The df DataFrame is given below. Extract the first five rows of this object, convert to HTML and assign it to the df_html variable.\n",
        "\n",
        "# Print the contents of the df_html variable to the console.\n",
        "\n",
        "\n",
        "\n",
        "# Expected result:\n",
        "\n",
        "\n",
        "\n",
        "# <table border=\"1\" class=\"dataframe\">\n",
        "#   <thead>\n",
        "#     <tr style=\"text-align: right;\">\n",
        "#       <th></th>\n",
        "#       <th>col1</th>\n",
        "#       <th>col2</th>\n",
        "#     </tr>\n",
        "#   </thead>\n",
        "#   <tbody>\n",
        "#     <tr>\n",
        "#       <th>0</th>\n",
        "#       <td>0.374540</td>\n",
        "#       <td>-1.012831</td>\n",
        "#     </tr>\n",
        "#     <tr>\n",
        "#       <th>1</th>\n",
        "#       <td>0.950714</td>\n",
        "#       <td>0.314247</td>\n",
        "#     </tr>\n",
        "#     <tr>\n",
        "#       <th>2</th>\n",
        "#       <td>0.731994</td>\n",
        "#       <td>-0.908024</td>\n",
        "#     </tr>\n",
        "#     <tr>\n",
        "#       <th>3</th>\n",
        "#       <td>0.598658</td>\n",
        "#       <td>-1.412304</td>\n",
        "#     </tr>\n",
        "#     <tr>\n",
        "#       <th>4</th>\n",
        "#       <td>0.156019</td>\n",
        "#       <td>1.465649</td>\n",
        "#     </tr>\n",
        "#   </tbody>\n",
        "# </table>\n",
        "\n",
        "import numpy as np\n",
        "import pandas as pd\n",
        " \n",
        " \n",
        "np.random.seed(42)\n",
        "s1 = pd.Series(np.random.rand(20))\n",
        "s2 = pd.Series(np.random.randn(20))\n",
        " \n",
        "df = pd.concat([s1, s2], axis=1)\n",
        "df.columns = ['col1', 'col2']\n",
        "print(df.head().to_html())\n",
        "\n",
        "# or\n",
        "\n",
        "import numpy as np\n",
        "import pandas as pd\n",
        " \n",
        " \n",
        "np.random.seed(42)\n",
        "s1 = pd.Series(np.random.rand(20))\n",
        "s2 = pd.Series(np.random.randn(20))\n",
        " \n",
        "df = pd.concat([s1, s2], axis=1)\n",
        "df.columns = ['col1', 'col2']\n",
        "print(df[:5].to_html())"
      ],
      "metadata": {
        "colab": {
          "base_uri": "https://localhost:8080/"
        },
        "id": "eLHRZQ99y1KT",
        "outputId": "15578331-3b56-4644-beca-fffb20de85d8"
      },
      "execution_count": 2,
      "outputs": [
        {
          "output_type": "stream",
          "name": "stdout",
          "text": [
            "<table border=\"1\" class=\"dataframe\">\n",
            "  <thead>\n",
            "    <tr style=\"text-align: right;\">\n",
            "      <th></th>\n",
            "      <th>col1</th>\n",
            "      <th>col2</th>\n",
            "    </tr>\n",
            "  </thead>\n",
            "  <tbody>\n",
            "    <tr>\n",
            "      <th>0</th>\n",
            "      <td>0.374540</td>\n",
            "      <td>-1.012831</td>\n",
            "    </tr>\n",
            "    <tr>\n",
            "      <th>1</th>\n",
            "      <td>0.950714</td>\n",
            "      <td>0.314247</td>\n",
            "    </tr>\n",
            "    <tr>\n",
            "      <th>2</th>\n",
            "      <td>0.731994</td>\n",
            "      <td>-0.908024</td>\n",
            "    </tr>\n",
            "    <tr>\n",
            "      <th>3</th>\n",
            "      <td>0.598658</td>\n",
            "      <td>-1.412304</td>\n",
            "    </tr>\n",
            "    <tr>\n",
            "      <th>4</th>\n",
            "      <td>0.156019</td>\n",
            "      <td>1.465649</td>\n",
            "    </tr>\n",
            "  </tbody>\n",
            "</table>\n",
            "<table border=\"1\" class=\"dataframe\">\n",
            "  <thead>\n",
            "    <tr style=\"text-align: right;\">\n",
            "      <th></th>\n",
            "      <th>col1</th>\n",
            "      <th>col2</th>\n",
            "    </tr>\n",
            "  </thead>\n",
            "  <tbody>\n",
            "    <tr>\n",
            "      <th>0</th>\n",
            "      <td>0.374540</td>\n",
            "      <td>-1.012831</td>\n",
            "    </tr>\n",
            "    <tr>\n",
            "      <th>1</th>\n",
            "      <td>0.950714</td>\n",
            "      <td>0.314247</td>\n",
            "    </tr>\n",
            "    <tr>\n",
            "      <th>2</th>\n",
            "      <td>0.731994</td>\n",
            "      <td>-0.908024</td>\n",
            "    </tr>\n",
            "    <tr>\n",
            "      <th>3</th>\n",
            "      <td>0.598658</td>\n",
            "      <td>-1.412304</td>\n",
            "    </tr>\n",
            "    <tr>\n",
            "      <th>4</th>\n",
            "      <td>0.156019</td>\n",
            "      <td>1.465649</td>\n",
            "    </tr>\n",
            "  </tbody>\n",
            "</table>\n"
          ]
        }
      ]
    },
    {
      "cell_type": "code",
      "source": [
        "# The following DataFrame is given:\n",
        "\n",
        "\n",
        "\n",
        "# df = pd.DataFrame(np.random.rand(10, 4), columns=list('ABCD'))\n",
        "\n",
        "\n",
        "# Extract rows of this DataFrame for which the C column is greater than 0.8 and print result to the console.\n",
        "\n",
        "\n",
        "\n",
        "# Expected output:\n",
        "\n",
        "\n",
        "\n",
        "#           A         B         C         D\n",
        "# 8  0.065052  0.948886  0.965632  0.808397\n",
        "\n",
        "import numpy as np\n",
        "import pandas as pd\n",
        " \n",
        " \n",
        "np.random.seed(42)\n",
        "df = pd.DataFrame(np.random.rand(10, 4), columns=list('ABCD'))\n",
        "print(df.loc[df['C'] > 0.8])"
      ],
      "metadata": {
        "colab": {
          "base_uri": "https://localhost:8080/"
        },
        "id": "RlNnAQBp3tnL",
        "outputId": "d05c1139-4dea-46bc-f0cf-65e07f5b004b"
      },
      "execution_count": 7,
      "outputs": [
        {
          "output_type": "stream",
          "name": "stdout",
          "text": [
            "          A         B         C         D\n",
            "8  0.065052  0.948886  0.965632  0.808397\n"
          ]
        }
      ]
    },
    {
      "cell_type": "code",
      "source": [
        "# The following DataFrame is given:\n",
        "\n",
        "\n",
        "\n",
        "# df = pd.DataFrame(np.random.rand(10, 4), columns=list('ABCD'))\n",
        "\n",
        "\n",
        "# Extract rows of this DataFrame for which the C column is greater than 0.3 and the D column is less than 0.7. Print result to the console.\n",
        "\n",
        "import numpy as np\n",
        "import pandas as pd\n",
        " \n",
        " \n",
        "np.random.seed(42)\n",
        "df = pd.DataFrame(np.random.rand(10, 4), columns=list('ABCD'))\n",
        "print(df.loc[(df['C'] > 0.3) & (df['D'] < 0.7)])"
      ],
      "metadata": {
        "colab": {
          "base_uri": "https://localhost:8080/"
        },
        "id": "oDKLJlv54oe0",
        "outputId": "090391fe-2c68-4536-a425-28e932716d67"
      },
      "execution_count": 8,
      "outputs": [
        {
          "output_type": "stream",
          "name": "stdout",
          "text": [
            "          A         B         C         D\n",
            "0  0.374540  0.950714  0.731994  0.598658\n",
            "4  0.304242  0.524756  0.431945  0.291229\n",
            "7  0.592415  0.046450  0.607545  0.170524\n",
            "9  0.304614  0.097672  0.684233  0.440152\n"
          ]
        }
      ]
    },
    {
      "cell_type": "code",
      "source": [
        "# The following DataFrame is given:\n",
        "\n",
        "\n",
        "\n",
        "# df = pd.DataFrame(np.random.rand(10, 4), columns=list('ABCD'))\n",
        "\n",
        "\n",
        "# Iterate through the first five rows of this object and print each row to the console as shown below.\n",
        "\n",
        "\n",
        "\n",
        "# Tip: Use the pd.DataFrame.iterrows() function.\n",
        "\n",
        "\n",
        "\n",
        "# Expected result:\n",
        "\n",
        "\n",
        "\n",
        "# A    0.374540\n",
        "# B    0.950714\n",
        "# C    0.731994\n",
        "# D    0.598658\n",
        "# Name: 0, dtype: float64\n",
        "# A    0.156019\n",
        "# B    0.155995\n",
        "# C    0.058084\n",
        "# D    0.866176\n",
        "# Name: 1, dtype: float64\n",
        "# A    0.601115\n",
        "# B    0.708073\n",
        "# C    0.020584\n",
        "# D    0.969910\n",
        "# Name: 2, dtype: float64\n",
        "# A    0.832443\n",
        "# B    0.212339\n",
        "# C    0.181825\n",
        "# D    0.183405\n",
        "# Name: 3, dtype: float64\n",
        "# A    0.304242\n",
        "# B    0.524756\n",
        "# C    0.431945\n",
        "# D    0.291229\n",
        "# Name: 4, dtype: float64\n",
        "import numpy as np\n",
        "import pandas as pd\n",
        " \n",
        " \n",
        "np.random.seed(42)\n",
        "df = pd.DataFrame(np.random.rand(10, 4), columns=list('ABCD'))\n",
        "for index, row in df.head().iterrows():\n",
        "    print(row)"
      ],
      "metadata": {
        "colab": {
          "base_uri": "https://localhost:8080/"
        },
        "id": "jObNHHfg4yPT",
        "outputId": "ef73cd66-c610-4889-a856-9769bfbfcced"
      },
      "execution_count": 10,
      "outputs": [
        {
          "output_type": "stream",
          "name": "stdout",
          "text": [
            "A    0.374540\n",
            "B    0.950714\n",
            "C    0.731994\n",
            "D    0.598658\n",
            "Name: 0, dtype: float64\n",
            "A    0.156019\n",
            "B    0.155995\n",
            "C    0.058084\n",
            "D    0.866176\n",
            "Name: 1, dtype: float64\n",
            "A    0.601115\n",
            "B    0.708073\n",
            "C    0.020584\n",
            "D    0.969910\n",
            "Name: 2, dtype: float64\n",
            "A    0.832443\n",
            "B    0.212339\n",
            "C    0.181825\n",
            "D    0.183405\n",
            "Name: 3, dtype: float64\n",
            "A    0.304242\n",
            "B    0.524756\n",
            "C    0.431945\n",
            "D    0.291229\n",
            "Name: 4, dtype: float64\n",
            "A    0.611853\n",
            "B    0.139494\n",
            "C    0.292145\n",
            "D    0.366362\n",
            "Name: 5, dtype: float64\n",
            "A    0.456070\n",
            "B    0.785176\n",
            "C    0.199674\n",
            "D    0.514234\n",
            "Name: 6, dtype: float64\n",
            "A    0.592415\n",
            "B    0.046450\n",
            "C    0.607545\n",
            "D    0.170524\n",
            "Name: 7, dtype: float64\n",
            "A    0.065052\n",
            "B    0.948886\n",
            "C    0.965632\n",
            "D    0.808397\n",
            "Name: 8, dtype: float64\n",
            "A    0.304614\n",
            "B    0.097672\n",
            "C    0.684233\n",
            "D    0.440152\n",
            "Name: 9, dtype: float64\n"
          ]
        }
      ]
    },
    {
      "cell_type": "code",
      "source": [
        "# The following DataFrame is given:\n",
        "\n",
        "\n",
        "\n",
        "# df = pd.DataFrame(np.random.rand(10, 4), columns=list('ABCD'))\n",
        "\n",
        "\n",
        "# Set the value in row with index 3 for column B as np.nan (use df.iloc) and also set the value in the row at index 8 for column D as np.nan (use df.loc).\n",
        "\n",
        "# Print DataFrame to the console.\n",
        "\n",
        "\n",
        "\n",
        "# Expected oupput:\n",
        "\n",
        "\n",
        "\n",
        "#           A         B         C         D\n",
        "# 0  0.374540  0.950714  0.731994  0.598658\n",
        "# 1  0.156019  0.155995  0.058084  0.866176\n",
        "# 2  0.601115  0.708073  0.020584  0.969910\n",
        "# 3  0.832443       NaN  0.181825  0.183405\n",
        "# 4  0.304242  0.524756  0.431945  0.291229\n",
        "# 5  0.611853  0.139494  0.292145  0.366362\n",
        "# 6  0.456070  0.785176  0.199674  0.514234\n",
        "# 7  0.592415  0.046450  0.607545  0.170524\n",
        "# 8  0.065052  0.948886  0.965632       NaN\n",
        "# 9  0.304614  0.097672  0.684233  0.440152\n",
        "\n",
        "\n",
        "import numpy as np\n",
        "import pandas as pd\n",
        " \n",
        " \n",
        "np.random.seed(42)\n",
        "df = pd.DataFrame(np.random.rand(10, 4), columns=list('ABCD'))\n",
        "df.iloc[3, 1] = np.nan\n",
        "### diffrance between iloc and loc, iloc looking to index and loc is lable\n",
        "df.loc[8, 'D'] = np.nan\n",
        "print(df)"
      ],
      "metadata": {
        "id": "Rtlzj5cT7H-A"
      },
      "execution_count": null,
      "outputs": []
    },
    {
      "cell_type": "code",
      "source": [
        "# The following df DataFrame is given. Remove all rows from this object containing missing values and assign to variable df1.\n",
        "# In response, print this variable to the console.\n",
        "# Expected result:\n",
        "#           A         B         C         D\n",
        "# 0  0.374540  0.950714  0.731994  0.598658\n",
        "# 1  0.156019  0.155995  0.058084  0.866176\n",
        "# 2  0.601115  0.708073  0.020584  0.969910\n",
        "# 4  0.304242  0.524756  0.431945  0.291229\n",
        "# 5  0.611853  0.139494  0.292145  0.366362\n",
        "# 6  0.456070  0.785176  0.199674  0.514234\n",
        "# 7  0.592415  0.046450  0.607545  0.170524\n",
        "# 9  0.304614  0.097672  0.684233  0.440152\n",
        "\n",
        "import numpy as np\n",
        "import pandas as pd\n",
        " \n",
        " \n",
        "np.random.seed(42)\n",
        "df = pd.DataFrame(np.random.rand(10, 4), columns=list('ABCD'))\n",
        "df.iloc[3, 1] = np.nan\n",
        "df.loc[8, 'D'] = np.nan\n",
        "df1 = df.dropna()\n",
        "print(df1)"
      ],
      "metadata": {
        "colab": {
          "base_uri": "https://localhost:8080/"
        },
        "id": "XeyHZLBH8gFk",
        "outputId": "c1533e7c-1695-4b6e-f36b-a7e6c6ce3d13"
      },
      "execution_count": 11,
      "outputs": [
        {
          "output_type": "stream",
          "name": "stdout",
          "text": [
            "          A         B         C         D\n",
            "0  0.374540  0.950714  0.731994  0.598658\n",
            "1  0.156019  0.155995  0.058084  0.866176\n",
            "2  0.601115  0.708073  0.020584  0.969910\n",
            "4  0.304242  0.524756  0.431945  0.291229\n",
            "5  0.611853  0.139494  0.292145  0.366362\n",
            "6  0.456070  0.785176  0.199674  0.514234\n",
            "7  0.592415  0.046450  0.607545  0.170524\n",
            "9  0.304614  0.097672  0.684233  0.440152\n"
          ]
        }
      ]
    },
    {
      "cell_type": "code",
      "source": [
        "# The following df DataFrame is given. Note that the index after removing two rows in the df1 is not correct. Reset this index and print df DataFrame to the console.\n",
        "\n",
        "# Expected output:\n",
        "#           A         B         C         D\n",
        "# 0  0.374540  0.950714  0.731994  0.598658\n",
        "# 1  0.156019  0.155995  0.058084  0.866176\n",
        "# 2  0.601115  0.708073  0.020584  0.969910\n",
        "# 3  0.304242  0.524756  0.431945  0.291229\n",
        "# 4  0.611853  0.139494  0.292145  0.366362\n",
        "# 5  0.456070  0.785176  0.199674  0.514234\n",
        "# 6  0.592415  0.046450  0.607545  0.170524\n",
        "# 7  0.304614  0.097672  0.684233  0.440152\n",
        "import numpy as np\n",
        "import pandas as pd\n",
        " \n",
        " \n",
        "np.random.seed(42)\n",
        "df = pd.DataFrame(np.random.rand(10, 4), columns=list('ABCD'))\n",
        "df.iloc[3, 1] = np.nan\n",
        "df.loc[8, 'D'] = np.nan\n",
        "df1 = df.dropna()\n",
        "df1 = df1.reset_index(drop=True)\n",
        "print(df1)"
      ],
      "metadata": {
        "colab": {
          "base_uri": "https://localhost:8080/"
        },
        "id": "iAXxPJi3CnGL",
        "outputId": "0f6bcbee-90bd-4fbe-e97a-06253048abb6"
      },
      "execution_count": 12,
      "outputs": [
        {
          "output_type": "stream",
          "name": "stdout",
          "text": [
            "          A         B         C         D\n",
            "0  0.374540  0.950714  0.731994  0.598658\n",
            "1  0.156019  0.155995  0.058084  0.866176\n",
            "2  0.601115  0.708073  0.020584  0.969910\n",
            "3  0.304242  0.524756  0.431945  0.291229\n",
            "4  0.611853  0.139494  0.292145  0.366362\n",
            "5  0.456070  0.785176  0.199674  0.514234\n",
            "6  0.592415  0.046450  0.607545  0.170524\n",
            "7  0.304614  0.097672  0.684233  0.440152\n"
          ]
        }
      ]
    },
    {
      "cell_type": "code",
      "source": [
        "# The following df DataFrame is given. Calculate the number of missing values in this object for each column.\n",
        "\n",
        "# In response, print result to the console.\n",
        "# Expected output:\n",
        "# A    0\n",
        "# B    1\n",
        "# C    0\n",
        "# D    1\n",
        "# dtype: int64\n",
        "import numpy as np\n",
        "import pandas as pd\n",
        " \n",
        " \n",
        "np.random.seed(42)\n",
        "df = pd.DataFrame(np.random.rand(10, 4), columns=list('ABCD'))\n",
        "df.iloc[3, 1] = np.nan\n",
        "df.loc[8, 'D'] = np.nan\n",
        "print(df.isnull().sum())"
      ],
      "metadata": {
        "colab": {
          "base_uri": "https://localhost:8080/"
        },
        "id": "4OWnCqkFC5rh",
        "outputId": "57a8d11d-64f8-48f5-d10b-8705ca3b8636"
      },
      "execution_count": 13,
      "outputs": [
        {
          "output_type": "stream",
          "name": "stdout",
          "text": [
            "A    0\n",
            "B    1\n",
            "C    0\n",
            "D    1\n",
            "dtype: int64\n"
          ]
        }
      ]
    },
    {
      "cell_type": "code",
      "source": [
        "# The following df DataFrame is given. Fill in the missing values with 0 and assign to the variable df. In response, print df to the console.\n",
        "# Expected output:\n",
        "#           A         B         C         D\n",
        "# 0  0.374540  0.950714  0.731994  0.598658\n",
        "# 1  0.156019  0.155995  0.058084  0.866176\n",
        "# 2  0.601115  0.708073  0.020584  0.969910\n",
        "# 3  0.832443  0.000000  0.181825  0.183405\n",
        "# 4  0.304242  0.524756  0.431945  0.291229\n",
        "# 5  0.611853  0.139494  0.292145  0.366362\n",
        "# 6  0.456070  0.785176  0.199674  0.514234\n",
        "# 7  0.592415  0.046450  0.607545  0.170524\n",
        "# 8  0.065052  0.948886  0.965632  0.000000\n",
        "# 9  0.304614  0.097672  0.684233  0.440152\n",
        "\n",
        "import numpy as np\n",
        "import pandas as pd\n",
        " \n",
        " \n",
        "np.random.seed(42)\n",
        "df = pd.DataFrame(np.random.rand(10, 4), columns=list('ABCD'))\n",
        "df.iloc[3, 1] = np.nan\n",
        "df.loc[8, 'D'] = np.nan\n",
        "df = df.fillna(0)\n",
        "print(df)\n"
      ],
      "metadata": {
        "colab": {
          "base_uri": "https://localhost:8080/"
        },
        "id": "saw9JB5bRzIO",
        "outputId": "2f500ff6-bb46-4dcc-92a0-bee63b8f277d"
      },
      "execution_count": 1,
      "outputs": [
        {
          "output_type": "stream",
          "name": "stdout",
          "text": [
            "          A         B         C         D\n",
            "0  0.374540  0.950714  0.731994  0.598658\n",
            "1  0.156019  0.155995  0.058084  0.866176\n",
            "2  0.601115  0.708073  0.020584  0.969910\n",
            "3  0.832443  0.000000  0.181825  0.183405\n",
            "4  0.304242  0.524756  0.431945  0.291229\n",
            "5  0.611853  0.139494  0.292145  0.366362\n",
            "6  0.456070  0.785176  0.199674  0.514234\n",
            "7  0.592415  0.046450  0.607545  0.170524\n",
            "8  0.065052  0.948886  0.965632  0.000000\n",
            "9  0.304614  0.097672  0.684233  0.440152\n"
          ]
        }
      ]
    },
    {
      "cell_type": "code",
      "source": [
        "# The following df DataFrame is given. Replace the order of the columns in the df object as following:\n",
        "\n",
        "# D, A, B, C\n",
        "\n",
        "# and assign to df variable. In respone, print this variable to the console.\n",
        "# Expected output:\n",
        "#           D         A         B         C\n",
        "# 0  0.598658  0.374540  0.950714  0.731994\n",
        "# 1  0.866176  0.156019  0.155995  0.058084\n",
        "# 2  0.969910  0.601115  0.708073  0.020584\n",
        "# 3  0.183405  0.832443  0.212339  0.181825\n",
        "# 4  0.291229  0.304242  0.524756  0.431945\n",
        "# 5  0.366362  0.611853  0.139494  0.292145\n",
        "# 6  0.514234  0.456070  0.785176  0.199674\n",
        "# 7  0.170524  0.592415  0.046450  0.607545\n",
        "# 8  0.808397  0.065052  0.948886  0.965632\n",
        "# 9  0.440152  0.304614  0.097672  0.684233\n",
        "\n",
        "import numpy as np\n",
        "import pandas as pd\n",
        " \n",
        " \n",
        "np.random.seed(42)\n",
        "df = pd.DataFrame(np.random.rand(10, 4), columns=list('ABCD'))\n",
        "df = df[['D', 'A', 'B', 'C']]\n",
        "print(df)"
      ],
      "metadata": {
        "colab": {
          "base_uri": "https://localhost:8080/"
        },
        "id": "uBdcBIW7kzml",
        "outputId": "42864d5c-b31a-4562-edda-86adc9f660c5"
      },
      "execution_count": 2,
      "outputs": [
        {
          "output_type": "stream",
          "name": "stdout",
          "text": [
            "          D         A         B         C\n",
            "0  0.598658  0.374540  0.950714  0.731994\n",
            "1  0.866176  0.156019  0.155995  0.058084\n",
            "2  0.969910  0.601115  0.708073  0.020584\n",
            "3  0.183405  0.832443  0.212339  0.181825\n",
            "4  0.291229  0.304242  0.524756  0.431945\n",
            "5  0.366362  0.611853  0.139494  0.292145\n",
            "6  0.514234  0.456070  0.785176  0.199674\n",
            "7  0.170524  0.592415  0.046450  0.607545\n",
            "8  0.808397  0.065052  0.948886  0.965632\n",
            "9  0.440152  0.304614  0.097672  0.684233\n"
          ]
        }
      ]
    }
  ]
}