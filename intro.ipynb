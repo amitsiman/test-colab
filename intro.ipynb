{
  "nbformat": 4,
  "nbformat_minor": 0,
  "metadata": {
    "colab": {
      "provenance": [],
      "authorship_tag": "ABX9TyOTTev0Z/CH6EBD1tnBzeXn",
      "include_colab_link": true
    },
    "kernelspec": {
      "name": "python3",
      "display_name": "Python 3"
    },
    "language_info": {
      "name": "python"
    }
  },
  "cells": [
    {
      "cell_type": "markdown",
      "metadata": {
        "id": "view-in-github",
        "colab_type": "text"
      },
      "source": [
        "<a href=\"https://colab.research.google.com/github/amitsiman/test-colab/blob/main/intro.ipynb\" target=\"_parent\"><img src=\"https://colab.research.google.com/assets/colab-badge.svg\" alt=\"Open In Colab\"/></a>"
      ]
    },
    {
      "cell_type": "code",
      "execution_count": 2,
      "metadata": {
        "id": "pzIGFbsGYHwL",
        "colab": {
          "base_uri": "https://localhost:8080/",
          "height": 35
        },
        "outputId": "0fd579b4-7b1e-4fdc-ebc2-3584bf88693f"
      },
      "outputs": [
        {
          "output_type": "execute_result",
          "data": {
            "text/plain": [
              "'1.3.5'"
            ],
            "application/vnd.google.colaboratory.intrinsic+json": {
              "type": "string"
            }
          },
          "metadata": {},
          "execution_count": 2
        }
      ],
      "source": [
        "import pandas as pd\n",
        "pd.__version__"
      ]
    },
    {
      "cell_type": "code",
      "source": [
        "import pandas as pd\n",
        "\n",
        "\n",
        "stocks = ['PLW', 'CDR', '11B', 'TEN']\n",
        "ser = pd.Series(stocks)\n",
        " \n",
        "print(ser)"
      ],
      "metadata": {
        "colab": {
          "base_uri": "https://localhost:8080/"
        },
        "id": "fItJ3DCQe75C",
        "outputId": "fa794eac-583b-4825-e37b-e4418874eb92"
      },
      "execution_count": 4,
      "outputs": [
        {
          "output_type": "stream",
          "name": "stdout",
          "text": [
            "0    PLW\n",
            "1    CDR\n",
            "2    11B\n",
            "3    TEN\n",
            "dtype: object\n"
          ]
        }
      ]
    },
    {
      "cell_type": "code",
      "source": [
        "import pandas as pd\n",
        "\n",
        "\n",
        "stocks = {'PLW': 387.00, 'CDR': 339.5, 'TEN': 349.5, '11B': 391.0}\n",
        "print(pd.Series(stocks))\n",
        "\n",
        "\n",
        "import pandas as pd\n",
        " \n",
        " \n",
        "stocks = {'PLW': 387.00, 'CDR': 339.5, 'TEN': 349.5, '11B': 391.0}\n",
        "quotations = pd.Series(data=stocks)\n",
        "print(quotations)"
      ],
      "metadata": {
        "colab": {
          "base_uri": "https://localhost:8080/"
        },
        "id": "SRmQunBff6pz",
        "outputId": "9b9d103c-ed90-4ce8-c715-13ecf466aa76"
      },
      "execution_count": 6,
      "outputs": [
        {
          "output_type": "stream",
          "name": "stdout",
          "text": [
            "PLW    387.0\n",
            "CDR    339.5\n",
            "TEN    349.5\n",
            "11B    391.0\n",
            "dtype: float64\n",
            "PLW    387.0\n",
            "CDR    339.5\n",
            "TEN    349.5\n",
            "11B    391.0\n",
            "dtype: float64\n"
          ]
        }
      ]
    },
    {
      "cell_type": "code",
      "source": [
        "import pandas as pd\n",
        "\n",
        "\n",
        "stocks = {'PLW': 387.00, 'CDR': 339.5, 'TEN': 349.5, '11B': 391.0}\n",
        "quotations = pd.Series(data=stocks)\n",
        "print(quotations)\n",
        "print(quotations.tolist())\n",
        "\n"
      ],
      "metadata": {
        "colab": {
          "base_uri": "https://localhost:8080/"
        },
        "id": "Q4qRsu67guLz",
        "outputId": "c28fa330-5913-46e7-a18a-4b47bfb88645"
      },
      "execution_count": 14,
      "outputs": [
        {
          "output_type": "stream",
          "name": "stdout",
          "text": [
            "PLW    387.0\n",
            "CDR    339.5\n",
            "TEN    349.5\n",
            "11B    391.0\n",
            "dtype: float64\n",
            "[387.0, 339.5, 349.5, 391.0]\n"
          ]
        }
      ]
    },
    {
      "cell_type": "code",
      "source": [
        "import pandas as pd\n",
        "\n",
        "\n",
        "stocks = {'PLW': 387.00, 'CDR': 339.5, 'TEN': 349.5, '11B': 391.0}\n",
        "quotations = pd.Series(data=stocks)\n",
        "df = pd.DataFrame(quotations,columns =['price'])\n",
        "print(df)\n"
      ],
      "metadata": {
        "colab": {
          "base_uri": "https://localhost:8080/"
        },
        "id": "MWWc5bC7ipJq",
        "outputId": "b49b7541-7acc-45f5-ee58-7e2743e55f46"
      },
      "execution_count": 15,
      "outputs": [
        {
          "output_type": "stream",
          "name": "stdout",
          "text": [
            "     price\n",
            "PLW  387.0\n",
            "CDR  339.5\n",
            "TEN  349.5\n",
            "11B  391.0\n"
          ]
        }
      ]
    },
    {
      "cell_type": "code",
      "source": [
        "import numpy as np\n",
        "import pandas as pd\n",
        "\n",
        "# num=np.arange(101,110,1)\n",
        "# num2=np.arange(10.0,100.0,10)\n",
        "\n",
        "# s = pd.Series(num2,num)\n",
        "# print(s)\n",
        "\n",
        "s = pd.Series(\n",
        "    data=np.arange(10, 100, 10), \n",
        "    index=np.arange(101, 110), \n",
        "    dtype='float'\n",
        ")\n",
        "print(s)\n"
      ],
      "metadata": {
        "colab": {
          "base_uri": "https://localhost:8080/"
        },
        "id": "zomjOxKx79Rg",
        "outputId": "b403f1b1-a33f-48f2-c1ae-63b3253c2485"
      },
      "execution_count": 34,
      "outputs": [
        {
          "output_type": "stream",
          "name": "stdout",
          "text": [
            "101    10.0\n",
            "102    20.0\n",
            "103    30.0\n",
            "104    40.0\n",
            "105    50.0\n",
            "106    60.0\n",
            "107    70.0\n",
            "108    80.0\n",
            "109    90.0\n",
            "dtype: float64\n"
          ]
        }
      ]
    },
    {
      "cell_type": "code",
      "source": [
        "# import pandas as pd\n",
        "\n",
        "\n",
        "# series = pd.Series(['001', '002', '003', '004'], list('abcd'))\n",
        "# df = pd.DataFrame(series)\n",
        "# df = df.astype(int)\n",
        "\n",
        "# print(df)\n",
        "\n",
        "import pandas as pd\n",
        " \n",
        " \n",
        "series = pd.Series(['001', '002', '003', '004'], list('abcd'))\n",
        "series = pd.to_numeric(series)\n",
        "print(series)\n",
        "\n",
        "import pandas as pd\n",
        " \n",
        " \n",
        "series = pd.Series(['001', '002', '003', '004'], list('abcd'))\n",
        "series = series.astype(int)\n",
        "print(series)\n",
        "\n"
      ],
      "metadata": {
        "colab": {
          "base_uri": "https://localhost:8080/"
        },
        "id": "UxP7l7NZCWpL",
        "outputId": "b3a490a7-d33b-4544-b32f-3f01d84206ab"
      },
      "execution_count": 43,
      "outputs": [
        {
          "output_type": "stream",
          "name": "stdout",
          "text": [
            "   0\n",
            "a  1\n",
            "b  2\n",
            "c  3\n",
            "d  4\n",
            "a    1\n",
            "b    2\n",
            "c    3\n",
            "d    4\n",
            "dtype: int64\n",
            "a    1\n",
            "b    2\n",
            "c    3\n",
            "d    4\n",
            "dtype: int64\n"
          ]
        }
      ]
    },
    {
      "cell_type": "code",
      "source": [
        "import pandas as pd\n",
        "\n",
        "\n",
        "stocks = {'PLW': 387.00, 'CDR': 339.5, 'TEN': 349.5, '11B': 391.0}\n",
        "quotations = pd.Series(data=stocks)\n",
        "s2 = pd.Series({'BBT': 25.5, 'F51': 19.2})\n",
        "quotations=quotations.append(s2)\n",
        "print(quotations)"
      ],
      "metadata": {
        "colab": {
          "base_uri": "https://localhost:8080/"
        },
        "id": "Cull7pkpFtWB",
        "outputId": "9f325d0c-6e5d-43a5-e2be-9ef23d138e03"
      },
      "execution_count": 44,
      "outputs": [
        {
          "output_type": "stream",
          "name": "stdout",
          "text": [
            "PLW    387.0\n",
            "CDR    339.5\n",
            "TEN    349.5\n",
            "11B    391.0\n",
            "BBT     25.5\n",
            "F51     19.2\n",
            "dtype: float64\n"
          ]
        }
      ]
    },
    {
      "cell_type": "code",
      "source": [
        "import pandas as pd\n",
        " \n",
        " \n",
        "stocks = {\n",
        "    'PLW': 387.00, \n",
        "    'CDR': 339.5, \n",
        "    'TEN': 349.5, \n",
        "    '11B': 391.0, \n",
        "    'BBT': 25.5, \n",
        "    'F51': 19.2\n",
        "}\n",
        "quotations = pd.Series(data=stocks)\n",
        "quotations = pd.DataFrame(quotations).reset_index()\n",
        "quotations.columns = ['ticker', 'price']\n",
        "print(quotations)\n"
      ],
      "metadata": {
        "colab": {
          "base_uri": "https://localhost:8080/"
        },
        "id": "O-SZdwWZIjix",
        "outputId": "0ecc3375-bffc-4381-dd07-2700c45932e7"
      },
      "execution_count": 89,
      "outputs": [
        {
          "output_type": "stream",
          "name": "stdout",
          "text": [
            "  ticker  price\n",
            "0    PLW  387.0\n",
            "1    CDR  339.5\n",
            "2    TEN  349.5\n",
            "3    11B  391.0\n",
            "4    BBT   25.5\n",
            "5    F51   19.2\n"
          ]
        }
      ]
    },
    {
      "cell_type": "code",
      "source": [
        "import pandas as pd\n",
        "\n",
        "d = {\"company\": ['Amazon', 'Microsoft', 'Facebook'], \"price\": [2375.0, 178.6, 179.2],\"ticker\":['AMZN.US','MSFT.US','FB.US']}\n",
        "df = pd.DataFrame(d)\n",
        "df\n",
        "\n",
        "##preferd solution\n",
        "import pandas as pd\n",
        " \n",
        " \n",
        "data_dict = {\n",
        "    'company': ['Amazon', 'Microsoft', 'Facebook'],\n",
        "    'price': [2375.00, 178.6, 179.2],\n",
        "    'ticker': ['AMZN.US', 'MSFT.US', 'FB.US']\n",
        "}\n",
        " \n",
        "companies = pd.DataFrame(data=data_dict)\n",
        "print(companies)\n",
        "# df"
      ],
      "metadata": {
        "colab": {
          "base_uri": "https://localhost:8080/",
          "height": 143
        },
        "id": "yF0vlA3wmDP7",
        "outputId": "9950862d-5336-4db1-b1e0-6c29a17e475b"
      },
      "execution_count": 6,
      "outputs": [
        {
          "output_type": "execute_result",
          "data": {
            "text/plain": [
              "     company   price   ticker\n",
              "0     Amazon  2375.0  AMZN.US\n",
              "1  Microsoft   178.6  MSFT.US\n",
              "2   Facebook   179.2    FB.US"
            ],
            "text/html": [
              "\n",
              "  <div id=\"df-c97db59f-295a-467b-b376-a46add72f9c5\">\n",
              "    <div class=\"colab-df-container\">\n",
              "      <div>\n",
              "<style scoped>\n",
              "    .dataframe tbody tr th:only-of-type {\n",
              "        vertical-align: middle;\n",
              "    }\n",
              "\n",
              "    .dataframe tbody tr th {\n",
              "        vertical-align: top;\n",
              "    }\n",
              "\n",
              "    .dataframe thead th {\n",
              "        text-align: right;\n",
              "    }\n",
              "</style>\n",
              "<table border=\"1\" class=\"dataframe\">\n",
              "  <thead>\n",
              "    <tr style=\"text-align: right;\">\n",
              "      <th></th>\n",
              "      <th>company</th>\n",
              "      <th>price</th>\n",
              "      <th>ticker</th>\n",
              "    </tr>\n",
              "  </thead>\n",
              "  <tbody>\n",
              "    <tr>\n",
              "      <th>0</th>\n",
              "      <td>Amazon</td>\n",
              "      <td>2375.0</td>\n",
              "      <td>AMZN.US</td>\n",
              "    </tr>\n",
              "    <tr>\n",
              "      <th>1</th>\n",
              "      <td>Microsoft</td>\n",
              "      <td>178.6</td>\n",
              "      <td>MSFT.US</td>\n",
              "    </tr>\n",
              "    <tr>\n",
              "      <th>2</th>\n",
              "      <td>Facebook</td>\n",
              "      <td>179.2</td>\n",
              "      <td>FB.US</td>\n",
              "    </tr>\n",
              "  </tbody>\n",
              "</table>\n",
              "</div>\n",
              "      <button class=\"colab-df-convert\" onclick=\"convertToInteractive('df-c97db59f-295a-467b-b376-a46add72f9c5')\"\n",
              "              title=\"Convert this dataframe to an interactive table.\"\n",
              "              style=\"display:none;\">\n",
              "        \n",
              "  <svg xmlns=\"http://www.w3.org/2000/svg\" height=\"24px\"viewBox=\"0 0 24 24\"\n",
              "       width=\"24px\">\n",
              "    <path d=\"M0 0h24v24H0V0z\" fill=\"none\"/>\n",
              "    <path d=\"M18.56 5.44l.94 2.06.94-2.06 2.06-.94-2.06-.94-.94-2.06-.94 2.06-2.06.94zm-11 1L8.5 8.5l.94-2.06 2.06-.94-2.06-.94L8.5 2.5l-.94 2.06-2.06.94zm10 10l.94 2.06.94-2.06 2.06-.94-2.06-.94-.94-2.06-.94 2.06-2.06.94z\"/><path d=\"M17.41 7.96l-1.37-1.37c-.4-.4-.92-.59-1.43-.59-.52 0-1.04.2-1.43.59L10.3 9.45l-7.72 7.72c-.78.78-.78 2.05 0 2.83L4 21.41c.39.39.9.59 1.41.59.51 0 1.02-.2 1.41-.59l7.78-7.78 2.81-2.81c.8-.78.8-2.07 0-2.86zM5.41 20L4 18.59l7.72-7.72 1.47 1.35L5.41 20z\"/>\n",
              "  </svg>\n",
              "      </button>\n",
              "      \n",
              "  <style>\n",
              "    .colab-df-container {\n",
              "      display:flex;\n",
              "      flex-wrap:wrap;\n",
              "      gap: 12px;\n",
              "    }\n",
              "\n",
              "    .colab-df-convert {\n",
              "      background-color: #E8F0FE;\n",
              "      border: none;\n",
              "      border-radius: 50%;\n",
              "      cursor: pointer;\n",
              "      display: none;\n",
              "      fill: #1967D2;\n",
              "      height: 32px;\n",
              "      padding: 0 0 0 0;\n",
              "      width: 32px;\n",
              "    }\n",
              "\n",
              "    .colab-df-convert:hover {\n",
              "      background-color: #E2EBFA;\n",
              "      box-shadow: 0px 1px 2px rgba(60, 64, 67, 0.3), 0px 1px 3px 1px rgba(60, 64, 67, 0.15);\n",
              "      fill: #174EA6;\n",
              "    }\n",
              "\n",
              "    [theme=dark] .colab-df-convert {\n",
              "      background-color: #3B4455;\n",
              "      fill: #D2E3FC;\n",
              "    }\n",
              "\n",
              "    [theme=dark] .colab-df-convert:hover {\n",
              "      background-color: #434B5C;\n",
              "      box-shadow: 0px 1px 3px 1px rgba(0, 0, 0, 0.15);\n",
              "      filter: drop-shadow(0px 1px 2px rgba(0, 0, 0, 0.3));\n",
              "      fill: #FFFFFF;\n",
              "    }\n",
              "  </style>\n",
              "\n",
              "      <script>\n",
              "        const buttonEl =\n",
              "          document.querySelector('#df-c97db59f-295a-467b-b376-a46add72f9c5 button.colab-df-convert');\n",
              "        buttonEl.style.display =\n",
              "          google.colab.kernel.accessAllowed ? 'block' : 'none';\n",
              "\n",
              "        async function convertToInteractive(key) {\n",
              "          const element = document.querySelector('#df-c97db59f-295a-467b-b376-a46add72f9c5');\n",
              "          const dataTable =\n",
              "            await google.colab.kernel.invokeFunction('convertToInteractive',\n",
              "                                                     [key], {});\n",
              "          if (!dataTable) return;\n",
              "\n",
              "          const docLinkHtml = 'Like what you see? Visit the ' +\n",
              "            '<a target=\"_blank\" href=https://colab.research.google.com/notebooks/data_table.ipynb>data table notebook</a>'\n",
              "            + ' to learn more about interactive tables.';\n",
              "          element.innerHTML = '';\n",
              "          dataTable['output_type'] = 'display_data';\n",
              "          await google.colab.output.renderOutput(dataTable, element);\n",
              "          const docLink = document.createElement('div');\n",
              "          docLink.innerHTML = docLinkHtml;\n",
              "          element.appendChild(docLink);\n",
              "        }\n",
              "      </script>\n",
              "    </div>\n",
              "  </div>\n",
              "  "
            ]
          },
          "metadata": {},
          "execution_count": 6
        }
      ]
    },
    {
      "cell_type": "code",
      "source": [
        "\n",
        "\n",
        "import pandas as pd\n",
        " \n",
        " \n",
        "data_dict = {\n",
        "    'company': ['Amazon', 'Microsoft', 'Facebook'],\n",
        "    'price': [2375.00, 178.6, 179.2],\n",
        "    'ticker': ['AMZN.US', 'MSFT.US', 'FB.US']\n",
        "}\n",
        " \n",
        "companies = pd.DataFrame(data=data_dict)\n",
        "companies = companies.set_index('company')\n",
        "print(companies)"
      ],
      "metadata": {
        "colab": {
          "base_uri": "https://localhost:8080/"
        },
        "id": "v7bcgbKEosAw",
        "outputId": "1e9761a0-a5e7-4bc2-acf4-9a75e4352f86"
      },
      "execution_count": 13,
      "outputs": [
        {
          "output_type": "stream",
          "name": "stdout",
          "text": [
            "            price   ticker\n",
            "company                   \n",
            "Amazon     2375.0  AMZN.US\n",
            "Microsoft   178.6  MSFT.US\n",
            "Facebook    179.2    FB.US\n"
          ]
        }
      ]
    },
    {
      "cell_type": "code",
      "source": [
        "import pandas as pd\n",
        " \n",
        " \n",
        "date_range = pd.date_range(start='2020-01-01', periods=31)\n",
        "print(date_range)\n",
        "\n",
        "## or\n",
        "\n",
        "import pandas as pd\n",
        " \n",
        " \n",
        "date_range = pd.date_range(start='2020-01-01', end='2020-01-31')\n",
        "print(date_range)\n",
        "\n",
        "\n",
        "# import pandas as pd\n",
        "# df = pd.date_range(start ='1-1-2020', \n",
        "#          end = pd.datetime.today(), freq ='D')\n",
        "\n",
        "# df"
      ],
      "metadata": {
        "colab": {
          "base_uri": "https://localhost:8080/"
        },
        "id": "xFNvHqtnqu58",
        "outputId": "f6691903-9482-49cb-cd19-e79075e6f45c"
      },
      "execution_count": 17,
      "outputs": [
        {
          "output_type": "stream",
          "name": "stderr",
          "text": [
            "/usr/local/lib/python3.7/dist-packages/ipykernel_launcher.py:3: FutureWarning: The pandas.datetime class is deprecated and will be removed from pandas in a future version. Import from datetime module instead.\n",
            "  This is separate from the ipykernel package so we can avoid doing imports until\n"
          ]
        },
        {
          "output_type": "execute_result",
          "data": {
            "text/plain": [
              "DatetimeIndex(['2020-01-01', '2020-01-02', '2020-01-03', '2020-01-04',\n",
              "               '2020-01-05', '2020-01-06', '2020-01-07', '2020-01-08',\n",
              "               '2020-01-09', '2020-01-10',\n",
              "               ...\n",
              "               '2022-11-10', '2022-11-11', '2022-11-12', '2022-11-13',\n",
              "               '2022-11-14', '2022-11-15', '2022-11-16', '2022-11-17',\n",
              "               '2022-11-18', '2022-11-19'],\n",
              "              dtype='datetime64[ns]', length=1054, freq='D')"
            ]
          },
          "metadata": {},
          "execution_count": 17
        }
      ]
    },
    {
      "cell_type": "code",
      "source": [
        "##Create the DatetimeIndex object containing the dates in the yyyy-mm-dd format for all Mondays from 2020 and assign it to the date_range variable. Print this variable to the console.\n",
        "\n",
        "\n",
        "import pandas as pd\n",
        "\n",
        "date_range = pd.date_range(start='2020-01-01', end='2020-12-31', freq='W-MON')\n",
        "print(date_range)\n",
        "## or\n",
        "\n",
        "import pandas as pd\n",
        " \n",
        " \n",
        "date_range = pd.date_range(start='2020-01-01', periods=52, freq='W-MON')\n",
        "print(date_range)\n"
      ],
      "metadata": {
        "colab": {
          "base_uri": "https://localhost:8080/"
        },
        "id": "l5sgPkDwtAuO",
        "outputId": "6555a0b2-6820-463c-d056-df41cf3ad0c7"
      },
      "execution_count": 24,
      "outputs": [
        {
          "output_type": "stream",
          "name": "stdout",
          "text": [
            "DatetimeIndex(['2020-01-06', '2020-01-13', '2020-01-20', '2020-01-27',\n",
            "               '2020-02-03', '2020-02-10', '2020-02-17', '2020-02-24',\n",
            "               '2020-03-02', '2020-03-09', '2020-03-16', '2020-03-23',\n",
            "               '2020-03-30', '2020-04-06', '2020-04-13', '2020-04-20',\n",
            "               '2020-04-27', '2020-05-04', '2020-05-11', '2020-05-18',\n",
            "               '2020-05-25', '2020-06-01', '2020-06-08', '2020-06-15',\n",
            "               '2020-06-22', '2020-06-29', '2020-07-06', '2020-07-13',\n",
            "               '2020-07-20', '2020-07-27', '2020-08-03', '2020-08-10',\n",
            "               '2020-08-17', '2020-08-24', '2020-08-31', '2020-09-07',\n",
            "               '2020-09-14', '2020-09-21', '2020-09-28', '2020-10-05',\n",
            "               '2020-10-12', '2020-10-19', '2020-10-26', '2020-11-02',\n",
            "               '2020-11-09', '2020-11-16', '2020-11-23', '2020-11-30',\n",
            "               '2020-12-07', '2020-12-14', '2020-12-21', '2020-12-28'],\n",
            "              dtype='datetime64[ns]', freq='W-MON')\n"
          ]
        }
      ]
    },
    {
      "cell_type": "code",
      "source": [
        "# #Create the DatetimeIndex object containing the dates in the format yyyy-mm-dd hh: mm: ss for January 1, \n",
        "# 2021 with a time interval of 1h and assign to the variable date_range. In response, print this variable to the console.\n",
        "\n",
        "import pandas as pd\n",
        "\n",
        "date_range = pd.date_range(start='2021-01-01 00:00:00', end='2021-01-01 23:00:00', freq='H')\n",
        "print(date_range)\n",
        "\n",
        "# or\n",
        "import pandas as pd\n",
        " \n",
        " \n",
        "date_range = pd.date_range(start='2021-01-01', periods=24, freq='H')\n",
        "print(date_range)\n",
        "# or\n",
        "import pandas as pd\n",
        " \n",
        " \n",
        "date_range = pd.date_range(\n",
        "    start='2021-01-01', \n",
        "    end='2021-01-02', \n",
        "    freq='H', \n",
        "    closed='left'\n",
        ")\n",
        "print(date_range)"
      ],
      "metadata": {
        "colab": {
          "base_uri": "https://localhost:8080/"
        },
        "id": "B7sYz4Bcui_K",
        "outputId": "f81f89da-4933-49d7-8c75-42f4379afecc"
      },
      "execution_count": 30,
      "outputs": [
        {
          "output_type": "stream",
          "name": "stdout",
          "text": [
            "DatetimeIndex(['2021-01-01 00:00:00', '2021-01-01 01:00:00',\n",
            "               '2021-01-01 02:00:00', '2021-01-01 03:00:00',\n",
            "               '2021-01-01 04:00:00', '2021-01-01 05:00:00',\n",
            "               '2021-01-01 06:00:00', '2021-01-01 07:00:00',\n",
            "               '2021-01-01 08:00:00', '2021-01-01 09:00:00',\n",
            "               '2021-01-01 10:00:00', '2021-01-01 11:00:00',\n",
            "               '2021-01-01 12:00:00', '2021-01-01 13:00:00',\n",
            "               '2021-01-01 14:00:00', '2021-01-01 15:00:00',\n",
            "               '2021-01-01 16:00:00', '2021-01-01 17:00:00',\n",
            "               '2021-01-01 18:00:00', '2021-01-01 19:00:00',\n",
            "               '2021-01-01 20:00:00', '2021-01-01 21:00:00',\n",
            "               '2021-01-01 22:00:00', '2021-01-01 23:00:00'],\n",
            "              dtype='datetime64[ns]', freq='H')\n"
          ]
        }
      ]
    },
    {
      "cell_type": "code",
      "source": [
        "\n",
        "# Create the following DataFrame object and print it to the console.\n",
        "\n",
        "\n",
        "\n",
        "#       day           day_of_year\n",
        "#  0    2021-03-01    60\n",
        "#  1    2021-03-02    61\n",
        "#  2    2021-03-03    62\n",
        "#  3    2021-03-04    63\n",
        "#  4    2021-03-05    64\n",
        "#  5    2021-03-06    65\n",
        "#  6    2021-03-07    66\n",
        "#  7    2021-03-08    67\n",
        "#  8    2021-03-09    68\n",
        "#  9    2021-03-10    69\n",
        "# 10    2021-03-11    70\n",
        "# 11    2021-03-12    71\n",
        "# 12    2021-03-13    72\n",
        "# 13    2021-03-14    73\n",
        "# 14    2021-03-15    74\n",
        "# 15    2021-03-16    75\n",
        "# 16    2021-03-17    76\n",
        "# 17    2021-03-18    77\n",
        "# 18    2021-03-19    78\n",
        "# 19    2021-03-20    79\n",
        "# 20    2021-03-21    80\n",
        "# 21    2021-03-22    81\n",
        "# 22    2021-03-23    82\n",
        "# 23    2021-03-24    83\n",
        "# 24    2021-03-25    84\n",
        "# 25    2021-03-26    85\n",
        "# 26    2021-03-27    86\n",
        "# 27    2021-03-28    87\n",
        "# 28    2021-03-29    88\n",
        "# 29    2021-03-30    89\n",
        "# 30    2021-03-31    90\n",
        "\n",
        "\n",
        "# Tip: The day column contains dates from March 1, 2021 to March 31, 2021. The column day_of_year is the day number of the whole year.\n",
        "\n",
        "\n",
        "\n",
        "\n",
        "import pandas as pd\n",
        " \n",
        " \n",
        "date_range = pd.date_range(start='2021-03-01', periods=31)\n",
        "df = pd.DataFrame(data=date_range, columns=['day'])\n",
        "df['day_of_year'] = df['day'].dt.dayofyear\n",
        "print(df)\n",
        "\n"
      ],
      "metadata": {
        "colab": {
          "base_uri": "https://localhost:8080/"
        },
        "id": "01qG4oy5vw9P",
        "outputId": "543e4b3f-89e1-4766-afb2-37492d8c6747"
      },
      "execution_count": 38,
      "outputs": [
        {
          "output_type": "stream",
          "name": "stdout",
          "text": [
            "          day  day_of_year\n",
            "0  2021-03-01           60\n",
            "1  2021-03-02           61\n",
            "2  2021-03-03           62\n",
            "3  2021-03-04           63\n",
            "4  2021-03-05           64\n",
            "5  2021-03-06           65\n",
            "6  2021-03-07           66\n",
            "7  2021-03-08           67\n",
            "8  2021-03-09           68\n",
            "9  2021-03-10           69\n",
            "10 2021-03-11           70\n",
            "11 2021-03-12           71\n",
            "12 2021-03-13           72\n",
            "13 2021-03-14           73\n",
            "14 2021-03-15           74\n",
            "15 2021-03-16           75\n",
            "16 2021-03-17           76\n",
            "17 2021-03-18           77\n",
            "18 2021-03-19           78\n",
            "19 2021-03-20           79\n",
            "20 2021-03-21           80\n",
            "21 2021-03-22           81\n",
            "22 2021-03-23           82\n",
            "23 2021-03-24           83\n",
            "24 2021-03-25           84\n",
            "25 2021-03-26           85\n",
            "26 2021-03-27           86\n",
            "27 2021-03-28           87\n",
            "28 2021-03-29           88\n",
            "29 2021-03-30           89\n",
            "30 2021-03-31           90\n"
          ]
        }
      ]
    },
    {
      "cell_type": "code",
      "source": [
        "# The following dictionary is given:\n",
        "\n",
        "\n",
        "\n",
        "# data_dict = {\n",
        "#     'normal': np.random.normal(loc=0, scale=1, size=1000),\n",
        "#     'uniform': np.random.uniform(low=0, high=1, size=1000),\n",
        "#     'binomial': np.random.binomial(n=1, p=0.2, size=1000)\n",
        "# }\n",
        "\n",
        "\n",
        "# Create the DateFrame object from this dictionary and assign it to the df variable. As an index, add a dates from 2020-01-01 as shown below. In response print this DataFrame to the console.\n",
        "\n",
        "import numpy as np\n",
        "import pandas as pd\n",
        "\n",
        "\n",
        "np.random.seed(42)\n",
        "data_dict = {\n",
        "    'normal': np.random.normal(loc=0, scale=1, size=1000),\n",
        "    'uniform': np.random.uniform(low=0, high=1, size=1000),\n",
        "    'binomial': np.random.binomial(n=1, p=0.2, size=1000)\n",
        "}\n",
        "\n",
        "df = pd.DataFrame(data=data_dict)\n",
        "df=df.set_index([pd.Index(pd.date_range(start='2020-01-01', periods=1000))])\n",
        "print(df)\n",
        "\n",
        "\n",
        "##or\n",
        "import numpy as np\n",
        "import pandas as pd\n",
        " \n",
        " \n",
        "np.random.seed(42)\n",
        "data_dict = {\n",
        "    'normal': np.random.normal(loc=0, scale=1, size=1000),\n",
        "    'uniform': np.random.uniform(low=0, high=1, size=1000),\n",
        "    'binomial': np.random.binomial(n=1, p=0.2, size=1000)\n",
        "}\n",
        " \n",
        "df = pd.DataFrame(\n",
        "    data=data_dict, \n",
        "    index=pd.date_range('2020-01-01', periods=1000)\n",
        ")\n",
        "print(df)\n",
        "\n"
      ],
      "metadata": {
        "colab": {
          "base_uri": "https://localhost:8080/"
        },
        "id": "oeNA6rdEzwa3",
        "outputId": "dce0991a-4ab2-4f90-d588-61f84253ba5b"
      },
      "execution_count": 54,
      "outputs": [
        {
          "output_type": "stream",
          "name": "stdout",
          "text": [
            "              normal   uniform  binomial\n",
            "2020-01-01  0.496714  0.167483         0\n",
            "2020-01-02 -0.138264  0.104568         0\n",
            "2020-01-03  0.647689  0.636430         0\n",
            "2020-01-04  1.523030  0.706476         0\n",
            "2020-01-05 -0.234153  0.031586         1\n",
            "...              ...       ...       ...\n",
            "2022-09-22 -0.281100  0.280683         1\n",
            "2022-09-23  1.797687  0.206993         0\n",
            "2022-09-24  0.640843  0.516573         0\n",
            "2022-09-25 -0.571179  0.005506         1\n",
            "2022-09-26  0.572583  0.007664         0\n",
            "\n",
            "[1000 rows x 3 columns]\n"
          ]
        }
      ]
    }
  ]
}